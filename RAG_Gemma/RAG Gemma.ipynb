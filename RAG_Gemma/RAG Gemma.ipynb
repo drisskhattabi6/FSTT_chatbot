{
 "cells": [
  {
   "cell_type": "markdown",
   "id": "cbc264e7-e200-46a0-9ffd-267c3077e1b8",
   "metadata": {},
   "source": [
    "### Procedure\n",
    "We create two classes:\n",
    "\n",
    "- **AIAgent** :  An AI Agent that query Gemma LLM using a custom prompt that instruct Gemma to generate and answer (from the query) by refering to the context (as well provided); the answer to the AI Agent query function is then returned.\n",
    "\n",
    "- **RAGSystem** :  initialized with the dataset with Data Science information, with an AIAgent object. In the init function of this class, we ingest the data from the dataset in the vector database. This class have as well a query member function. In this function we first perform similarity search with the query to the vector database. Then, we call the generate function of the ai agent object. Before returning the answer, we use a predefined template to compose the overal response from the question, answer and the context retrieved."
   ]
  },
  {
   "cell_type": "markdown",
   "id": "db6d3adb-ea7a-4e5b-9fc9-49b5bdf8804c",
   "metadata": {},
   "source": [
    "## Packages instalation and configurations : "
   ]
  },
  {
   "cell_type": "code",
   "execution_count": 1,
   "id": "a8cf6277-9832-432e-adfa-f64393cdbb42",
   "metadata": {},
   "outputs": [],
   "source": [
    "from transformers import AutoTokenizer, AutoModelForCausalLM\n",
    "\n",
    "from langchain.document_loaders import CSVLoader\n",
    "from langchain.text_splitter import RecursiveCharacterTextSplitter\n",
    "from langchain_community.embeddings import HuggingFaceEmbeddings\n",
    "from langchain.vectorstores import Chroma\n",
    "\n",
    "from IPython.display import display, Markdown\n",
    "import pandas as pd\n",
    "import re"
   ]
  },
  {
   "cell_type": "markdown",
   "id": "91fdb94a-57f3-4126-a832-09fdd41b5680",
   "metadata": {},
   "source": [
    "## AI Agent class :"
   ]
  },
  {
   "cell_type": "code",
   "execution_count": 2,
   "id": "f5c1da1a-62b7-4015-bf72-0bae46815994",
   "metadata": {},
   "outputs": [],
   "source": [
    "import os\n",
    "# Set your Hugging Face API token\n",
    "os.environ['HUGGINGFACE_HUB_TOKEN'] = 'Your Hugging Face API token'"
   ]
  },
  {
   "cell_type": "code",
   "execution_count": 3,
   "id": "8a573a73-fe8a-4dff-9380-fadeb5cf872e",
   "metadata": {
    "scrolled": true
   },
   "outputs": [],
   "source": [
    "\n",
    "class AIAgent:\n",
    "    \n",
    "    def __init__(self, model_name=\"google/gemma-2b-it\", max_length=1000):\n",
    "        self.max_length = max_length\n",
    "        try:\n",
    "            self.tokenizer = AutoTokenizer.from_pretrained(model_name, use_auth_token=True)\n",
    "            self.gemma_llm = AutoModelForCausalLM.from_pretrained(model_name, use_auth_token=True)\n",
    "        except Exception as e:\n",
    "            raise ValueError(f\"Error loading model: {e}\")\n",
    "\n",
    "    def create_prompt(self, query, context):\n",
    "        # Prompt template\n",
    "        prompt = f\"\"\"\n",
    "        You are an AI Agent specialized to answer questions about FSTT (faculty of science and technology in Tanger).\n",
    "        Explain the concept or answer the question about FSTT.\n",
    "        In order to create the answer,use the information from the context if it seems to be relevant to the question provided (Context). \n",
    "        and the context will be as a list, so you must use just the most relevent informations from the list.\n",
    "        Answer with simple words.\n",
    "        If needed, include also explanations.\n",
    "        it's important to answer with french languge.\n",
    "        Question: {query}\n",
    "        Context: {context}\n",
    "        Answer:\n",
    "        \"\"\"\n",
    "        return prompt\n",
    "    \n",
    "    def generate(self, query, retrieved_info):\n",
    "        prompt = self.create_prompt(query, retrieved_info)\n",
    "        input_ids = self.tokenizer(prompt, return_tensors=\"pt\").input_ids\n",
    "        \n",
    "        # Answer generation\n",
    "        answer_ids = self.gemma_llm.generate(input_ids, max_new_tokens=self.max_length)\n",
    "        \n",
    "        # Decode and return the answer\n",
    "        answer = self.tokenizer.decode(answer_ids[0], skip_special_tokens=True)\n",
    "        \n",
    "        return answer"
   ]
  },
  {
   "cell_type": "markdown",
   "id": "c189c880-7e57-468f-bf1f-72b2a28570d7",
   "metadata": {},
   "source": [
    "### Test the AIAgent :"
   ]
  },
  {
   "cell_type": "code",
   "execution_count": 4,
   "id": "b2d61f2a-0b34-4b07-8d3f-c100d35984fb",
   "metadata": {},
   "outputs": [
    {
     "name": "stderr",
     "output_type": "stream",
     "text": [
      "/home/idriss/.local/lib/python3.11/site-packages/transformers/models/auto/tokenization_auto.py:769: FutureWarning: The `use_auth_token` argument is deprecated and will be removed in v5 of Transformers. Please use `token` instead.\n",
      "  warnings.warn(\n"
     ]
    },
    {
     "data": {
      "application/vnd.jupyter.widget-view+json": {
       "model_id": "488f2b54e6e44060b059feb1996ae3dc",
       "version_major": 2,
       "version_minor": 0
      },
      "text/plain": [
       "tokenizer_config.json:   0%|          | 0.00/34.2k [00:00<?, ?B/s]"
      ]
     },
     "metadata": {},
     "output_type": "display_data"
    },
    {
     "data": {
      "application/vnd.jupyter.widget-view+json": {
       "model_id": "2f9bebcb0ef7421794e8237337b9ed8d",
       "version_major": 2,
       "version_minor": 0
      },
      "text/plain": [
       "tokenizer.model:   0%|          | 0.00/4.24M [00:00<?, ?B/s]"
      ]
     },
     "metadata": {},
     "output_type": "display_data"
    },
    {
     "data": {
      "application/vnd.jupyter.widget-view+json": {
       "model_id": "58cc88d08cbc4ca1a4e71d0169a17410",
       "version_major": 2,
       "version_minor": 0
      },
      "text/plain": [
       "tokenizer.json:   0%|          | 0.00/17.5M [00:00<?, ?B/s]"
      ]
     },
     "metadata": {},
     "output_type": "display_data"
    },
    {
     "data": {
      "application/vnd.jupyter.widget-view+json": {
       "model_id": "c72733e92abf4cd1bfda4232801bc214",
       "version_major": 2,
       "version_minor": 0
      },
      "text/plain": [
       "special_tokens_map.json:   0%|          | 0.00/636 [00:00<?, ?B/s]"
      ]
     },
     "metadata": {},
     "output_type": "display_data"
    },
    {
     "name": "stderr",
     "output_type": "stream",
     "text": [
      "/home/idriss/.local/lib/python3.11/site-packages/transformers/models/auto/auto_factory.py:468: FutureWarning: The `use_auth_token` argument is deprecated and will be removed in v5 of Transformers. Please use `token` instead.\n",
      "  warnings.warn(\n"
     ]
    },
    {
     "data": {
      "application/vnd.jupyter.widget-view+json": {
       "model_id": "ead6a9627c124a25a67fd09fb5cca5b6",
       "version_major": 2,
       "version_minor": 0
      },
      "text/plain": [
       "config.json:   0%|          | 0.00/627 [00:00<?, ?B/s]"
      ]
     },
     "metadata": {},
     "output_type": "display_data"
    },
    {
     "data": {
      "application/vnd.jupyter.widget-view+json": {
       "model_id": "396658e24c7b4a049024cc962b87595c",
       "version_major": 2,
       "version_minor": 0
      },
      "text/plain": [
       "model.safetensors.index.json:   0%|          | 0.00/13.5k [00:00<?, ?B/s]"
      ]
     },
     "metadata": {},
     "output_type": "display_data"
    },
    {
     "data": {
      "application/vnd.jupyter.widget-view+json": {
       "model_id": "83b1ddec33714e4fa3a807bbf864a9a3",
       "version_major": 2,
       "version_minor": 0
      },
      "text/plain": [
       "Downloading shards:   0%|          | 0/2 [00:00<?, ?it/s]"
      ]
     },
     "metadata": {},
     "output_type": "display_data"
    },
    {
     "data": {
      "application/vnd.jupyter.widget-view+json": {
       "model_id": "c09e26151b8c4c648dfe5815773d49f0",
       "version_major": 2,
       "version_minor": 0
      },
      "text/plain": [
       "model-00001-of-00002.safetensors:   0%|          | 0.00/4.95G [00:00<?, ?B/s]"
      ]
     },
     "metadata": {},
     "output_type": "display_data"
    },
    {
     "data": {
      "application/vnd.jupyter.widget-view+json": {
       "model_id": "2325dd30774e46a7a27c6832bd1247da",
       "version_major": 2,
       "version_minor": 0
      },
      "text/plain": [
       "model-00002-of-00002.safetensors:   0%|          | 0.00/67.1M [00:00<?, ?B/s]"
      ]
     },
     "metadata": {},
     "output_type": "display_data"
    },
    {
     "name": "stderr",
     "output_type": "stream",
     "text": [
      "`config.hidden_act` is ignored, you should use `config.hidden_activation` instead.\n",
      "Gemma's activation function will be set to `gelu_pytorch_tanh`. Please, use\n",
      "`config.hidden_activation` if you want to override this behaviour.\n",
      "See https://github.com/huggingface/transformers/pull/29402 for more details.\n"
     ]
    },
    {
     "data": {
      "application/vnd.jupyter.widget-view+json": {
       "model_id": "43647ae94af74797bab2e36a9d164c9e",
       "version_major": 2,
       "version_minor": 0
      },
      "text/plain": [
       "Loading checkpoint shards:   0%|          | 0/2 [00:00<?, ?it/s]"
      ]
     },
     "metadata": {},
     "output_type": "display_data"
    },
    {
     "data": {
      "application/vnd.jupyter.widget-view+json": {
       "model_id": "2ecf7879a3004c4ebe24c6189b18e2b9",
       "version_major": 2,
       "version_minor": 0
      },
      "text/plain": [
       "generation_config.json:   0%|          | 0.00/137 [00:00<?, ?B/s]"
      ]
     },
     "metadata": {},
     "output_type": "display_data"
    }
   ],
   "source": [
    "# Initialize the AI Agent\n",
    "ai_agent = AIAgent()"
   ]
  },
  {
   "cell_type": "code",
   "execution_count": 28,
   "id": "08aea186-4cef-4c3a-acef-f4456d081588",
   "metadata": {},
   "outputs": [],
   "source": [
    "class RAGSystem:\n",
    "    \"\"\"Sentence embedding based Retrieval Based Augmented generation.\n",
    "       Given a ChromaDB collection, retriever finds num_retrieved_docs relevant documents.\"\"\"\n",
    "    \n",
    "    def __init__(self, ai_agent, collection, num_retrieved_docs=2):\n",
    "        self.num_docs = num_retrieved_docs\n",
    "        self.collection = collection\n",
    "        self.ai_agent = ai_agent\n",
    "    \n",
    "    def retrieve(self, query):\n",
    "        # Retrieve top k similar documents to query\n",
    "        results = self.collection.query(query_texts=[query], n_results=self.num_docs)\n",
    "        docs = [result for result in results['documents']]\n",
    "        return docs\n",
    "    \n",
    "    def query(self, query):\n",
    "        # Generate the answer\n",
    "        context_docs = self.retrieve(query)\n",
    "        context_docs = context_docs[0]\n",
    "        print(context_docs)\n",
    "        \n",
    "        answer = self.ai_agent.generate(query, context_docs)\n",
    "        \n",
    "        return answer"
   ]
  },
  {
   "cell_type": "code",
   "execution_count": 29,
   "id": "ee2eceba-e753-4942-ae17-5d29bf107202",
   "metadata": {},
   "outputs": [],
   "source": [
    "def extract_answer_from_text(text):\n",
    "    answer_match = re.search(r'Answer:\\s*(.*)', text, re.DOTALL)\n",
    "    answer = answer_match.group(1).strip() if answer_match else \"\"\n",
    "\n",
    "    return answer"
   ]
  },
  {
   "cell_type": "code",
   "execution_count": 30,
   "id": "de12a7d1-0cb0-4f3c-8c82-29d87bcf7a33",
   "metadata": {},
   "outputs": [],
   "source": [
    "import chromadb\n",
    "\n",
    "# Configure the ChromaDB client with persistence\n",
    "persist_directory = \"/home/idriss/Desktop/chroma_db\"\n",
    "client2 = chromadb.PersistentClient(path=persist_directory)\n",
    "collection = client2.get_collection(name=\"text_embeddings\")\n",
    "\n",
    "# Initialize the RAGSystem with the existing collection\n",
    "rag_system = RAGSystem(ai_agent=ai_agent, collection=collection, num_retrieved_docs=15)"
   ]
  },
  {
   "cell_type": "code",
   "execution_count": 25,
   "id": "6e1e2637-668e-4c23-b355-c72a40e18c0e",
   "metadata": {},
   "outputs": [],
   "source": [
    "# Define the query\n",
    "query1 = \"donner moi le nom de Doyen de FSTT\"\n",
    "query2 = \"donner moi les noms de tout les departements de fstt\"\n",
    "query3 = \"donner moi les noms de tout les clubs de fstt\"\n",
    "query4 = \"c'est quoi fstt?\"\n",
    "query5 = \"dooner moi quelque information sur le departement GÉNIE INFORMATIQUE\"\n",
    "query6 = \"Donne le nombre de départements avec les informations de chaque departement\"\n",
    "query7 = \"donner moi des informations sur MST : Intelligence Artificielle et Sciences de Données\"\n",
    "query8 = \"donner moi le nom de Coordinnateur de departement GÉNIE INFORMATIQUE\"\n",
    "query9 = \"donner moi le programme de formation de master : Intelligence Artificielle et Sciences de Données\"\n",
    "query10 = \"le nombre des departement\"\n",
    "query11 = \"donner moi l'annee de creation de fstt\"\n",
    "query12 = \"c'est annee de creation de fstt en brief\"\n",
    "query13 = \"site web de FST tanger\"\n",
    "query14 = \"c'est qoui le telephone de FSTT\"\n",
    "query15 = \"annee creation de fstt\"\n",
    "query16 = \"PRÉSENTATION GÉNÉRALE sur FST Tanger\"\n",
    "query17 = \"address de fstt, localisation\"\n",
    "query18 = \"Green Lab\"\n",
    "query19 = \"Les Formations Initiale de FSTT\"\n",
    "query20 = \"Les Formation Contunie de FSTT\"\n",
    "query21 = \"Les Recherche scientifique dans FSTT\"\n",
    "query22 = \"Les clubs des Etudiants en FST Tanger\"\n",
    "query23 = \"c'est quoi le nom de chef de departement Genie Informatique\"\n",
    "query24 = \"CYBERSEC360° : PERSPECTIVES EN CYBERSÉCURITÉ AVANCÉE\"\n",
    "query25 = \"Signification de MST\"\n",
    "query26 = \"quels sont les diplômes de FST Tanger ?\"\n",
    "query27 = \"l'objective de formation : Intelligence Artificielle et Sciences de Données\"\n",
    "query28 = \"Le Coordinnateur de formation mst : Intelligence Artificielle et Sciences de Données\"\n",
    "query29 = \"\""
   ]
  },
  {
   "cell_type": "code",
   "execution_count": 24,
   "id": "ae35372f-cafc-4a73-a24e-64f4b6145688",
   "metadata": {},
   "outputs": [
    {
     "name": "stdout",
     "output_type": "stream",
     "text": [
      "----------------------------------------------------------------------------------------------------\n",
      "L'objectif de la formation \"Intelligence Artificielle et Sciences de Données\" est de fournir aux étudiants avec les connaissances et les compétences nécessaires pour réussir dans le domaine du traitement statistique de l'information et des techniques d'aide à la décision. \n",
      "\n",
      "La formation comprend trois semestres, chacun couvrant des aspects différents de l'intelligence artificielle et des sciences de données. Les étudiants seront également exposés à des techniques de traitement des données et à des méthodes de recherche.\n"
     ]
    }
   ],
   "source": [
    "# Get the answer from the RAG system\n",
    "response = rag_system.query(query27)\n",
    "\n",
    "# display(Markdown(response))\n",
    "print(\"-\"*100)\n",
    "print(extract_answer_from_text(response))"
   ]
  },
  {
   "cell_type": "code",
   "execution_count": 21,
   "id": "114410b1-7561-4713-a61b-bfcc388e1bc9",
   "metadata": {},
   "outputs": [
    {
     "name": "stdout",
     "output_type": "stream",
     "text": [
      "----------------------------------------------------------------------------------------------------\n",
      "Le programme de formation de master : Intelligence Artificielle et Sciences de Données est un programme de 3 semestres qui permet aux étudiants de acquérir des compétences en matière d'intelligence artificielle et de sciences de données. Le programme couvre les aspects clés de l'intelligence artificielle, tels que l'apprentissage automatique, la gestion des données et la fouille de données. Il couvre également les aspects des sciences de données, tels que les bases de données, les statistiques et la recherche.\n"
     ]
    }
   ],
   "source": [
    "response = rag_system.query(query9)\n",
    "print(\"-\"*100)\n",
    "print(extract_answer_from_text(response))"
   ]
  },
  {
   "cell_type": "code",
   "execution_count": 31,
   "id": "d088c503-0aae-42a8-9fd2-3e7355c2af35",
   "metadata": {},
   "outputs": [
    {
     "name": "stdout",
     "output_type": "stream",
     "text": [
      "[\"'mst : intelligence artificielle et sciences de données' est un formation dans fst tanger de type : mst\", \"le coordinnateur de formation 'mst : intelligence artificielle et sciences de données' est coordinnateur pédagogique  : pr.ezziyyani mostafa          :  mezziyyani .ac.ma\", \"link de formation 'mst : intelligence artificielle et sciences de données' est : https://fstt.ac.ma/portail2023/mst-intelligence-artificielle-et-sciences-de-donnees/\", \"objective de formation : 'mst : intelligence artificielle et sciences de données', est cette formation d'excellence offre de solides connaissances en conception de systèmes d'intelligence artificielle et mathématiques appliquées afin de couvrir l'ensemble des problématiques de traitement et d'analyse des données massives que rencontre les entreprises. elle met l'accent sur l'articulation entre apprentissage automatique, gestion et fouille de grandes masses de données, paradigmes du big data, représentation des connaissances, le traitement des données et sur les méthodologies récemment développées..\", \"nom de formation : mst : intelligence artificielle et sciences de données | type de formation  : mst | objective de formation  : cette formation d'excellence offre de solides connaissances en conception de systèmes d'intelligence artificielle et mathématiques appliquées afin de couvrir l'ensemble des problématiques de traitement et d'analyse des données massives que rencontre les entreprises. elle met l'accent sur l'articulation entre apprentissage automatique, gestion et fouille de grandes masses de données, paradigmes du big data, représentation des connaissances, le traitement des données et sur les méthodologies récemment développées. | programme de formation : {'semestre 1': ['', ' théories et systèmes de raisonnements intelligents', ' mathématiques pour analyse de données', ' programmation avancée', ' bases de données avancées', ' machine learning 1', ' anglais et technique d expression'], 'semestre 2': ['', ' infrastructure et architecture des systèmes distribues & big data', ' plateformes iot core: technologies, data et ia', ' metaheuristiques & algorithmes de recherche stochastique', ' sma & nlp', ' dataming & bi', ' developpement personnel et intelligence emotionnell'], 'semestre 3': ['', ' multimedia mining and indexing', ' machine learning 2 : deep and transfert learning', ' data spaces & data\\\\xa0 integration & semantic interoperability ', ' blockchain & securite applicative', ' virtualization, cloud and edge computing', ' digital business strategies\\\\xa0 leadership in the age of ai'], 'semestre 4': ['', ' projet de fin d étude']} | coordinnateur de formation : coordinnateur pédagogique  : pr.ezziyyani mostafa          :  mezziyyani .ac.ma | link de formation : https://fstt.ac.ma/portail2023/mst-intelligence-artificielle-et-sciences-de-donnees/ |\", \"le coordinnateur de formation 'statistique et science des données' est coordinnateur : pr.el merzguioui mhamed             :  melmerzguioui .ac.ma\", \"le coordinnateur de formation 'mst : analyse appliquée et ingénierie statistique' est coordinnateur pédagogique  : pr.el halimi rachid          :  r.elhalimi .ac.ma\", \"le coordinnateur de formation 'mst : sciences de l'environnement' est coordinnateur pédagogique : pr.a.el arrim            :  a.elarrim .ac.ma\", \"le coordinnateur de formation 'mst : modélisation mathématique et science de données' est coordinnateur pédagogique  : pr.el halimi rachid        :  r.elhalimi .ac.ma\", \"nom de formation : analytique des données | type de formation  : lst | objective de formation  : la licence science et techniques en analytique des données permet aux étudiants de doter de compétences en matière d'outils informatiques, des techniques et des méthodes statistiques pour permettre d organiser, de synthétiser et de traduire efficacement les données métier d une organisation. l'étudiant doit être en mesure d'apporter un appui analytique à la conduite d'exploration et à l'analyse complexe de données. | programme de formation : {'semestre 5': ['', ' mathématiques pour la science des données', ' structures des données avancées et théorie des graphes', ' fondamentaux des bases de données', ' algorithmique avancée et programmation', ' développement web', ' développement personnel et intelligence émotionnelle (soft skills)'], 'semestre 6': ['', ' analyse et fouille de données', ' systèmes et réseaux', ' ingénierie des données ', ' pfe']} | coordinnateur de formation : coordinnateur : pr.baida ouafae             :  wbaida .ac.ma | link de formation : https://fstt.ac.ma/portail2023/lst-analytique-des-donnees/ |\", \"le coordinnateur de formation 'mathématiques-informatique-physique-chimie' est coordinnateur pédagogique : pr.jbilou mohammed             :  mjbilou .ac.ma\", \"le coordinnateur de formation 'techniques d'analyses chimiques (tac)' est coordinnateur pédagogique  : pr.chabbi mohamed            :  jbilou mohammed\", \"le programme de formation : 'analytique des données' est : semestre 5:  mathématiques pour la science des données,  structures des données avancées et théorie des graphes,  fondamentaux des bases de données,  algorithmique avancée et programmation,  développement web,  développement personnel et intelligence émotionnelle (soft skills)   semestre 6:  analyse et fouille de données,  systèmes et réseaux,  ingénierie des données ,  pfe\", \"le coordinnateur de formation 'mathématiques-informatique-physique' est coordinnateur pédagogique : pr.jbilou mohammed             :  mjbilou .ac.ma\", \"'statistique et science des données' est un formation dans fst tanger de type : lst\"]\n",
      "The Coordinnateur de formation \"mst : intelligence artificielle et sciences de données\" est un formations qui offre de solides connaissances en conception de systèmes d'intelligence artificielle et mathématiques appliquées.\n"
     ]
    }
   ],
   "source": [
    "### Get the answer from the RAG system\n",
    "response = rag_system.query(query28)\n",
    "print(extract_answer_from_text(response))"
   ]
  },
  {
   "cell_type": "code",
   "execution_count": 27,
   "id": "10bed8e4-f7c2-4fca-a310-97ae8c3d3613",
   "metadata": {},
   "outputs": [
    {
     "name": "stdout",
     "output_type": "stream",
     "text": [
      "La faculté des sciences et techniques de Tanger est un établissement universitaire spécialisé dans les sciences et techniques. Elle offre une variété de programmes d'études, notamment en sciences de la vie, sciences de la terre, génie chimique, physique, mathématiques, génie informatique, génie electrique et génie mécanique.\n"
     ]
    }
   ],
   "source": [
    "response = rag_system.query(query16)\n",
    "print(extract_answer_from_text(response))"
   ]
  },
  {
   "cell_type": "markdown",
   "id": "7618c7b9-4c4b-41bf-8ac9-99cf1640036e",
   "metadata": {},
   "source": [
    "- https://www.kaggle.com/code/gpreda/rag-using-gemma-langchain-and-chromadb\n",
    "- https://huggingface.co/google/gemma-2b-it\n",
    "- "
   ]
  }
 ],
 "metadata": {
  "kernelspec": {
   "display_name": "Python 3 (ipykernel)",
   "language": "python",
   "name": "python3"
  },
  "language_info": {
   "codemirror_mode": {
    "name": "ipython",
    "version": 3
   },
   "file_extension": ".py",
   "mimetype": "text/x-python",
   "name": "python",
   "nbconvert_exporter": "python",
   "pygments_lexer": "ipython3",
   "version": "3.11.6"
  }
 },
 "nbformat": 4,
 "nbformat_minor": 5
}
