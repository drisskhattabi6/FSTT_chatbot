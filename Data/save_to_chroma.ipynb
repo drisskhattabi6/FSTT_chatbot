{
 "cells": [
  {
   "cell_type": "code",
   "execution_count": 1,
   "id": "af28d3eb-0442-44fd-b687-0d5182daa7ed",
   "metadata": {},
   "outputs": [],
   "source": [
    "import pandas as pd\n",
    "import numpy as np\n",
    "from chromadb.config import Settings\n",
    "from langdetect import detect\n",
    "import spacy\n",
    "import nltk\n",
    "import re\n",
    "import ast\n",
    "import chromadb\n",
    "import string\n",
    "import uuid\n",
    "# pd.set_option('display.width', 1000) \n",
    "# pd.set_option('display.max_colwidth', 1000) \n",
    "# from chromadb.utils.embedding_functions import OllamaEmbeddingFunction\n",
    "# from nltk.corpus import stopwords\n",
    "# from nltk.tokenize import word_tokenize\n",
    "# from gensim.models import Word2Vec"
   ]
  },
  {
   "cell_type": "code",
   "execution_count": 2,
   "id": "bb52bbda-f286-4a19-a4cf-4a9d7ee92853",
   "metadata": {},
   "outputs": [],
   "source": [
    "# french_stopwords = set(stopwords.words('french'))"
   ]
  },
  {
   "cell_type": "code",
   "execution_count": 3,
   "id": "a9266df5-dbb3-4c1a-9dbd-6c0bb1c1769f",
   "metadata": {},
   "outputs": [],
   "source": [
    "def dict_to_ordered_string(d):\n",
    "    ordered_string = \"\"\n",
    "    for key in sorted(d.keys()):\n",
    "        ordered_string += f\"{key}: {', '.join(filter(None, d[key]))} \\n \"\n",
    "    return ordered_string.strip()"
   ]
  },
  {
   "cell_type": "code",
   "execution_count": 4,
   "id": "d05f3e47-bcac-41d6-8d02-88049e23bb72",
   "metadata": {},
   "outputs": [],
   "source": [
    "article = pd.read_csv(\"fstt-articles.csv\")\n",
    "clubs = pd.read_csv(\"fstt-clubs-info.csv\")\n",
    "dep = pd.read_csv(\"fstt-departements-info.csv\")\n",
    "formation = pd.read_csv(\"fstt-formation-initial.csv\")"
   ]
  },
  {
   "cell_type": "code",
   "execution_count": 5,
   "id": "3fccafbb-7c46-4d09-ae8a-9a9aba15903d",
   "metadata": {},
   "outputs": [],
   "source": [
    "general_info = pd.read_csv(\"general_info.csv\", encoding='ISO-8859-1')\n",
    "general_info.columns=[\"info\", \"metadata\"]"
   ]
  },
  {
   "cell_type": "code",
   "execution_count": 6,
   "id": "6295664c-e951-4486-93b7-71f0d7dc4c87",
   "metadata": {},
   "outputs": [],
   "source": [
    "# general_info = general_info.head(41)\n",
    "general_info['info'] = general_info['info'].str.replace('\\n', ' ')\n",
    "general_info['info'] = general_info['info'].str.replace('Ã‰', 'é')\n",
    "general_info['info'] = general_info['info'].str.replace('ï¿½', 'é')\n",
    "general_info['info'] = general_info['info'].str.replace('Ã©', 'é')\n",
    "general_info['info'] = general_info['info'].str.replace('â€™', \"'\")\n",
    "general_info['info'] = general_info['info'].str.replace('Ã´', \"o\")\n",
    "\n",
    "general_info['metadata'] = general_info['metadata'].str.replace('Ã‰', 'é')\n",
    "general_info['metadata'] = general_info['metadata'].str.replace('ï¿½', 'é')\n",
    "general_info['metadata'] = general_info['metadata'].str.replace('Ã©', 'é')\n",
    "general_info['metadata'] = general_info['metadata'].str.replace('â€™', \"'\")\n",
    "general_info['metadata'] = general_info['metadata'].str.replace('Ã´', \"o\")"
   ]
  },
  {
   "cell_type": "code",
   "execution_count": 7,
   "id": "cfc76c9b-4846-492b-9365-770df51350da",
   "metadata": {},
   "outputs": [
    {
     "data": {
      "text/html": [
       "<div>\n",
       "<style scoped>\n",
       "    .dataframe tbody tr th:only-of-type {\n",
       "        vertical-align: middle;\n",
       "    }\n",
       "\n",
       "    .dataframe tbody tr th {\n",
       "        vertical-align: top;\n",
       "    }\n",
       "\n",
       "    .dataframe thead th {\n",
       "        text-align: right;\n",
       "    }\n",
       "</style>\n",
       "<table border=\"1\" class=\"dataframe\">\n",
       "  <thead>\n",
       "    <tr style=\"text-align: right;\">\n",
       "      <th></th>\n",
       "      <th>info</th>\n",
       "      <th>metadata</th>\n",
       "    </tr>\n",
       "  </thead>\n",
       "  <tbody>\n",
       "    <tr>\n",
       "      <th>0</th>\n",
       "      <td>PRESENTATION DE LA FST DE TANGER : La Faculté ...</td>\n",
       "      <td>PRESENTATION DE LA FST DE TANGER</td>\n",
       "    </tr>\n",
       "    <tr>\n",
       "      <th>1</th>\n",
       "      <td>La FST Tanger comporte de 9 les départements s...</td>\n",
       "      <td>les departements de FSTT</td>\n",
       "    </tr>\n",
       "    <tr>\n",
       "      <th>2</th>\n",
       "      <td>La FST de Tanger a pour mission de dispenser l...</td>\n",
       "      <td>les diplomes de FST Tanget</td>\n",
       "    </tr>\n",
       "    <tr>\n",
       "      <th>3</th>\n",
       "      <td>Le nom du Doyen de FSTT est  Pr.MUSTAPHA DIANI</td>\n",
       "      <td>le Doyen de FSTT</td>\n",
       "    </tr>\n",
       "    <tr>\n",
       "      <th>4</th>\n",
       "      <td>La Faculté des sciences et techniques de Tange...</td>\n",
       "      <td>La Faculté des sciences et techniques de Tange...</td>\n",
       "    </tr>\n",
       "    <tr>\n",
       "      <th>5</th>\n",
       "      <td>FSTT signifier FST Tanger et Faculte des Scien...</td>\n",
       "      <td>FSTT = FST Tanger = Faculté des Sciences et Te...</td>\n",
       "    </tr>\n",
       "    <tr>\n",
       "      <th>6</th>\n",
       "      <td>La Faculté des Sciences et Techniques de Tange...</td>\n",
       "      <td>PRÃSENTATION GÃNÃRALE en brief sur FST Tanger</td>\n",
       "    </tr>\n",
       "    <tr>\n",
       "      <th>7</th>\n",
       "      <td>Formation Initiale : La FST de Tanger offre de...</td>\n",
       "      <td>Les Formations Initiale de FSTT</td>\n",
       "    </tr>\n",
       "    <tr>\n",
       "      <th>8</th>\n",
       "      <td>Formation continue :  Les programmes de la for...</td>\n",
       "      <td>Les Formation Contunie de FSTT</td>\n",
       "    </tr>\n",
       "    <tr>\n",
       "      <th>9</th>\n",
       "      <td>Recherche scientifique :  La recherche scienti...</td>\n",
       "      <td>Les Recherche scientifique dans FSTT</td>\n",
       "    </tr>\n",
       "    <tr>\n",
       "      <th>10</th>\n",
       "      <td>Les clubs des Etudiants :  Les clubs des étud...</td>\n",
       "      <td>Les clubs des Etudiants â fstt</td>\n",
       "    </tr>\n",
       "    <tr>\n",
       "      <th>11</th>\n",
       "      <td>les nom de tout les formation dans FSTT : MST ...</td>\n",
       "      <td>les nom de tout les formation dans FSTT</td>\n",
       "    </tr>\n",
       "    <tr>\n",
       "      <th>12</th>\n",
       "      <td>les nom de tout les departement dand FSTT : GÃ...</td>\n",
       "      <td>les nom de tout les clubs dans FSTT</td>\n",
       "    </tr>\n",
       "    <tr>\n",
       "      <th>13</th>\n",
       "      <td>les nom de tout les clubs dans FSTT : GREENOLO...</td>\n",
       "      <td>les nom de tout les departement dans FSTT</td>\n",
       "    </tr>\n",
       "    <tr>\n",
       "      <th>14</th>\n",
       "      <td>La Faculté des sciences et techniques de Tange...</td>\n",
       "      <td>annee de creation de fstt</td>\n",
       "    </tr>\n",
       "    <tr>\n",
       "      <th>15</th>\n",
       "      <td>Faisant partie de l'Université Abdelmalek Essa...</td>\n",
       "      <td>Fait partie de l'Université Abdelmalek Essaadi...</td>\n",
       "    </tr>\n",
       "    <tr>\n",
       "      <th>16</th>\n",
       "      <td>Elle a pour mission de dispenser l'enseignemen...</td>\n",
       "      <td>Mission : enseignement supérieur initial et co...</td>\n",
       "    </tr>\n",
       "    <tr>\n",
       "      <th>17</th>\n",
       "      <td>Elle comporte les départements suivants : Géni...</td>\n",
       "      <td>Génie Mécanique</td>\n",
       "    </tr>\n",
       "    <tr>\n",
       "      <th>18</th>\n",
       "      <td>La FST Tanger prépare et délivre les diplémes ...</td>\n",
       "      <td>Diplémes : ingénieur déétat, doctorat en Scien...</td>\n",
       "    </tr>\n",
       "    <tr>\n",
       "      <th>19</th>\n",
       "      <td>il ya  5 diplémes dans FSTT, ce sont : ingénie...</td>\n",
       "      <td>5 diplémes dans FSTT</td>\n",
       "    </tr>\n",
       "    <tr>\n",
       "      <th>20</th>\n",
       "      <td>il y a 9 départements dans FSTT : Génie électr...</td>\n",
       "      <td>9 départements dans FSTT</td>\n",
       "    </tr>\n",
       "    <tr>\n",
       "      <th>21</th>\n",
       "      <td>le nombre  des diplémes dans FSTT est 5, ce so...</td>\n",
       "      <td>le nombre  des diplémes dans FSTT est 5</td>\n",
       "    </tr>\n",
       "    <tr>\n",
       "      <th>22</th>\n",
       "      <td>le nombre des départements dans FSTT est 9, ce...</td>\n",
       "      <td>le nombre des départements dans FSTT est 9</td>\n",
       "    </tr>\n",
       "    <tr>\n",
       "      <th>23</th>\n",
       "      <td>site web de FST tanger : http://fstt.uae.ma</td>\n",
       "      <td>site web de FST tanger</td>\n",
       "    </tr>\n",
       "    <tr>\n",
       "      <th>24</th>\n",
       "      <td>telephone de FSTT : +2125 39 39 39 54</td>\n",
       "      <td>telephone de FSTT</td>\n",
       "    </tr>\n",
       "    <tr>\n",
       "      <th>25</th>\n",
       "      <td>La Faculté des Sciences et Techniques de Tange...</td>\n",
       "      <td>Créée en 1995, fait partie de l'Université Abd...</td>\n",
       "    </tr>\n",
       "    <tr>\n",
       "      <th>26</th>\n",
       "      <td>Elle fait partie des établissements de léensei...</td>\n",
       "      <td>Enseignement supérieur é accés régulé</td>\n",
       "    </tr>\n",
       "    <tr>\n",
       "      <th>27</th>\n",
       "      <td>Missions : formation initiale et continue, rec...</td>\n",
       "      <td>Formation initiale et continue, recherche et d...</td>\n",
       "    </tr>\n",
       "    <tr>\n",
       "      <th>28</th>\n",
       "      <td>Diplémes offerts : DEUST, LST, MST, DI, Doctorat.</td>\n",
       "      <td>Diplémes : DEUST (Bac +2), LST (Bac +3), MST (...</td>\n",
       "    </tr>\n",
       "    <tr>\n",
       "      <th>29</th>\n",
       "      <td>La FST propose 12 filiéres LST, 13 filiéres MS...</td>\n",
       "      <td>12 filiéres LST, 13 filiéres MST, 4 filiéres I...</td>\n",
       "    </tr>\n",
       "    <tr>\n",
       "      <th>30</th>\n",
       "      <td>Programmes de formation continue destinés aux ...</td>\n",
       "      <td>Formation continue pour les professionnels.</td>\n",
       "    </tr>\n",
       "    <tr>\n",
       "      <th>31</th>\n",
       "      <td>Domaines de la formation continue : sciences d...</td>\n",
       "      <td>Domaines : Ingénierie informatique, civil, méc...</td>\n",
       "    </tr>\n",
       "    <tr>\n",
       "      <th>32</th>\n",
       "      <td>Recherche scientifique structurée autour de 7 ...</td>\n",
       "      <td>Recherche : 7 laboratoires, 11 équipes, 2 cent...</td>\n",
       "    </tr>\n",
       "    <tr>\n",
       "      <th>33</th>\n",
       "      <td>Thématiques de recherche : agro-alimentaire, b...</td>\n",
       "      <td>Recherche : agro-alimentaire, biotechnologie, ...</td>\n",
       "    </tr>\n",
       "    <tr>\n",
       "      <th>34</th>\n",
       "      <td>Green Lab : FabLab pour l'innovation et l'entr...</td>\n",
       "      <td>Green Lab pour innovation et entrepreneuriat.</td>\n",
       "    </tr>\n",
       "    <tr>\n",
       "      <th>35</th>\n",
       "      <td>équipements du Green Lab : imprimantes 3D, mac...</td>\n",
       "      <td>équipements : imprimantes 3D, découpe laser, f...</td>\n",
       "    </tr>\n",
       "    <tr>\n",
       "      <th>36</th>\n",
       "      <td>Projets du Green Lab axés sur la durabilité et...</td>\n",
       "      <td>Projets durables et respectueux de l'environne...</td>\n",
       "    </tr>\n",
       "    <tr>\n",
       "      <th>37</th>\n",
       "      <td>Green Lab ouvert aux étudiants de tous les dép...</td>\n",
       "      <td>Accessible é tous les étudiants et la communau...</td>\n",
       "    </tr>\n",
       "    <tr>\n",
       "      <th>38</th>\n",
       "      <td>Ateliers de formation au Green Lab : compétenc...</td>\n",
       "      <td>Ateliers : compétences techniques, conception ...</td>\n",
       "    </tr>\n",
       "    <tr>\n",
       "      <th>39</th>\n",
       "      <td>Clubs étudiants : favorisent l'engagement, ren...</td>\n",
       "      <td>Clubs : engagement, leadership, compétences pr...</td>\n",
       "    </tr>\n",
       "    <tr>\n",
       "      <th>40</th>\n",
       "      <td>l'addresse ou localisation de FSTT : Ancienne ...</td>\n",
       "      <td>l'addresse ou localisation de FSTT</td>\n",
       "    </tr>\n",
       "    <tr>\n",
       "      <th>41</th>\n",
       "      <td>annee creation de fstt est : 1995</td>\n",
       "      <td>annee creation de fstt</td>\n",
       "    </tr>\n",
       "    <tr>\n",
       "      <th>42</th>\n",
       "      <td>creation de fstt est : 1995</td>\n",
       "      <td>creation de fstt est : 1995</td>\n",
       "    </tr>\n",
       "    <tr>\n",
       "      <th>43</th>\n",
       "      <td>l'annee de creation de fstt ou FST Tanger est ...</td>\n",
       "      <td>l'annee de creation de fstt ou FST Tanger</td>\n",
       "    </tr>\n",
       "    <tr>\n",
       "      <th>44</th>\n",
       "      <td>Pr.MUSTAPHA DIANI est Le nom du Doyen de FSTT</td>\n",
       "      <td>Le nom du Doyen de FSTT</td>\n",
       "    </tr>\n",
       "    <tr>\n",
       "      <th>45</th>\n",
       "      <td>le telephone de FST Tanger est +2125 39 39 39 54</td>\n",
       "      <td>le telephone de FST Tanger</td>\n",
       "    </tr>\n",
       "    <tr>\n",
       "      <th>46</th>\n",
       "      <td>site web de FST tanger (fstt) est http://fstt....</td>\n",
       "      <td>site web de FST tanger (fstt)</td>\n",
       "    </tr>\n",
       "    <tr>\n",
       "      <th>47</th>\n",
       "      <td>les diplémes de la FST Tanger sont 5, ce sont ...</td>\n",
       "      <td>les diplémes de la FST Tanger</td>\n",
       "    </tr>\n",
       "    <tr>\n",
       "      <th>48</th>\n",
       "      <td>PRéSENTATION GéNéRALE sur FST Tanger Faculté d...</td>\n",
       "      <td>PRéSENTATION GéNéRALE sur FST Tanger</td>\n",
       "    </tr>\n",
       "    <tr>\n",
       "      <th>49</th>\n",
       "      <td>Master en Sciences et Techniques signifier MST</td>\n",
       "      <td>Signification de MST</td>\n",
       "    </tr>\n",
       "    <tr>\n",
       "      <th>50</th>\n",
       "      <td>licence en sciences et Techniques signifier LST</td>\n",
       "      <td>signification de LST</td>\n",
       "    </tr>\n",
       "    <tr>\n",
       "      <th>51</th>\n",
       "      <td>dâetudes Universitaire en Sciences et Techni...</td>\n",
       "      <td>Signification de DEUST</td>\n",
       "    </tr>\n",
       "    <tr>\n",
       "      <th>52</th>\n",
       "      <td>MUSTAPHA DIANI est Le nom du Doyen de FST Tanger</td>\n",
       "      <td>MUSTAPHA DIAN</td>\n",
       "    </tr>\n",
       "    <tr>\n",
       "      <th>53</th>\n",
       "      <td>signification de LST est licence en sciences e...</td>\n",
       "      <td>signification de LST</td>\n",
       "    </tr>\n",
       "    <tr>\n",
       "      <th>54</th>\n",
       "      <td>signification de MST est Master en sciences et...</td>\n",
       "      <td>signification de MST</td>\n",
       "    </tr>\n",
       "    <tr>\n",
       "      <th>55</th>\n",
       "      <td>signification de DEUST estdâetudes Universit...</td>\n",
       "      <td>Signification de DEUST</td>\n",
       "    </tr>\n",
       "    <tr>\n",
       "      <th>56</th>\n",
       "      <td>c'est quoi fst Tanger : Faculté des Sciences e...</td>\n",
       "      <td>c'est quoi fst Tanger</td>\n",
       "    </tr>\n",
       "    <tr>\n",
       "      <th>57</th>\n",
       "      <td>signification de FSTT est Faculte des Sciences...</td>\n",
       "      <td>signification de FSTT</td>\n",
       "    </tr>\n",
       "    <tr>\n",
       "      <th>58</th>\n",
       "      <td>les formations sont les filieres</td>\n",
       "      <td>les formations sont les filieres</td>\n",
       "    </tr>\n",
       "  </tbody>\n",
       "</table>\n",
       "</div>"
      ],
      "text/plain": [
       "                                                 info  \\\n",
       "0   PRESENTATION DE LA FST DE TANGER : La Faculté ...   \n",
       "1   La FST Tanger comporte de 9 les départements s...   \n",
       "2   La FST de Tanger a pour mission de dispenser l...   \n",
       "3      Le nom du Doyen de FSTT est  Pr.MUSTAPHA DIANI   \n",
       "4   La Faculté des sciences et techniques de Tange...   \n",
       "5   FSTT signifier FST Tanger et Faculte des Scien...   \n",
       "6   La Faculté des Sciences et Techniques de Tange...   \n",
       "7   Formation Initiale : La FST de Tanger offre de...   \n",
       "8   Formation continue :  Les programmes de la for...   \n",
       "9   Recherche scientifique :  La recherche scienti...   \n",
       "10   Les clubs des Etudiants :  Les clubs des étud...   \n",
       "11  les nom de tout les formation dans FSTT : MST ...   \n",
       "12  les nom de tout les departement dand FSTT : GÃ...   \n",
       "13  les nom de tout les clubs dans FSTT : GREENOLO...   \n",
       "14  La Faculté des sciences et techniques de Tange...   \n",
       "15  Faisant partie de l'Université Abdelmalek Essa...   \n",
       "16  Elle a pour mission de dispenser l'enseignemen...   \n",
       "17  Elle comporte les départements suivants : Géni...   \n",
       "18  La FST Tanger prépare et délivre les diplémes ...   \n",
       "19  il ya  5 diplémes dans FSTT, ce sont : ingénie...   \n",
       "20  il y a 9 départements dans FSTT : Génie électr...   \n",
       "21  le nombre  des diplémes dans FSTT est 5, ce so...   \n",
       "22  le nombre des départements dans FSTT est 9, ce...   \n",
       "23       site web de FST tanger : http://fstt.uae.ma    \n",
       "24              telephone de FSTT : +2125 39 39 39 54   \n",
       "25  La Faculté des Sciences et Techniques de Tange...   \n",
       "26  Elle fait partie des établissements de léensei...   \n",
       "27  Missions : formation initiale et continue, rec...   \n",
       "28  Diplémes offerts : DEUST, LST, MST, DI, Doctorat.   \n",
       "29  La FST propose 12 filiéres LST, 13 filiéres MS...   \n",
       "30  Programmes de formation continue destinés aux ...   \n",
       "31  Domaines de la formation continue : sciences d...   \n",
       "32  Recherche scientifique structurée autour de 7 ...   \n",
       "33  Thématiques de recherche : agro-alimentaire, b...   \n",
       "34  Green Lab : FabLab pour l'innovation et l'entr...   \n",
       "35  équipements du Green Lab : imprimantes 3D, mac...   \n",
       "36  Projets du Green Lab axés sur la durabilité et...   \n",
       "37  Green Lab ouvert aux étudiants de tous les dép...   \n",
       "38  Ateliers de formation au Green Lab : compétenc...   \n",
       "39  Clubs étudiants : favorisent l'engagement, ren...   \n",
       "40  l'addresse ou localisation de FSTT : Ancienne ...   \n",
       "41                  annee creation de fstt est : 1995   \n",
       "42                        creation de fstt est : 1995   \n",
       "43  l'annee de creation de fstt ou FST Tanger est ...   \n",
       "44    Pr.MUSTAPHA DIANI est Le nom du Doyen de FSTT     \n",
       "45   le telephone de FST Tanger est +2125 39 39 39 54   \n",
       "46  site web de FST tanger (fstt) est http://fstt....   \n",
       "47  les diplémes de la FST Tanger sont 5, ce sont ...   \n",
       "48  PRéSENTATION GéNéRALE sur FST Tanger Faculté d...   \n",
       "49     Master en Sciences et Techniques signifier MST   \n",
       "50    licence en sciences et Techniques signifier LST   \n",
       "51  dâetudes Universitaire en Sciences et Techni...   \n",
       "52   MUSTAPHA DIANI est Le nom du Doyen de FST Tanger   \n",
       "53  signification de LST est licence en sciences e...   \n",
       "54  signification de MST est Master en sciences et...   \n",
       "55  signification de DEUST estdâetudes Universit...   \n",
       "56  c'est quoi fst Tanger : Faculté des Sciences e...   \n",
       "57  signification de FSTT est Faculte des Sciences...   \n",
       "58                   les formations sont les filieres   \n",
       "\n",
       "                                             metadata  \n",
       "0                    PRESENTATION DE LA FST DE TANGER  \n",
       "1                            les departements de FSTT  \n",
       "2                          les diplomes de FST Tanget  \n",
       "3                                    le Doyen de FSTT  \n",
       "4   La Faculté des sciences et techniques de Tange...  \n",
       "5   FSTT = FST Tanger = Faculté des Sciences et Te...  \n",
       "6   PRÃSENTATION GÃNÃRALE en brief sur FST Tanger   \n",
       "7                     Les Formations Initiale de FSTT  \n",
       "8                      Les Formation Contunie de FSTT  \n",
       "9                Les Recherche scientifique dans FSTT  \n",
       "10                   Les clubs des Etudiants â fstt  \n",
       "11            les nom de tout les formation dans FSTT  \n",
       "12                les nom de tout les clubs dans FSTT  \n",
       "13          les nom de tout les departement dans FSTT  \n",
       "14                          annee de creation de fstt  \n",
       "15  Fait partie de l'Université Abdelmalek Essaadi...  \n",
       "16  Mission : enseignement supérieur initial et co...  \n",
       "17                                   Génie Mécanique   \n",
       "18  Diplémes : ingénieur déétat, doctorat en Scien...  \n",
       "19                               5 diplémes dans FSTT  \n",
       "20                          9 départements dans FSTT   \n",
       "21            le nombre  des diplémes dans FSTT est 5  \n",
       "22         le nombre des départements dans FSTT est 9  \n",
       "23                             site web de FST tanger  \n",
       "24                                  telephone de FSTT  \n",
       "25  Créée en 1995, fait partie de l'Université Abd...  \n",
       "26              Enseignement supérieur é accés régulé  \n",
       "27  Formation initiale et continue, recherche et d...  \n",
       "28  Diplémes : DEUST (Bac +2), LST (Bac +3), MST (...  \n",
       "29  12 filiéres LST, 13 filiéres MST, 4 filiéres I...  \n",
       "30        Formation continue pour les professionnels.  \n",
       "31  Domaines : Ingénierie informatique, civil, méc...  \n",
       "32  Recherche : 7 laboratoires, 11 équipes, 2 cent...  \n",
       "33  Recherche : agro-alimentaire, biotechnologie, ...  \n",
       "34      Green Lab pour innovation et entrepreneuriat.  \n",
       "35  équipements : imprimantes 3D, découpe laser, f...  \n",
       "36  Projets durables et respectueux de l'environne...  \n",
       "37  Accessible é tous les étudiants et la communau...  \n",
       "38  Ateliers : compétences techniques, conception ...  \n",
       "39  Clubs : engagement, leadership, compétences pr...  \n",
       "40                 l'addresse ou localisation de FSTT  \n",
       "41                             annee creation de fstt  \n",
       "42                        creation de fstt est : 1995  \n",
       "43          l'annee de creation de fstt ou FST Tanger  \n",
       "44                          Le nom du Doyen de FSTT    \n",
       "45                         le telephone de FST Tanger  \n",
       "46                      site web de FST tanger (fstt)  \n",
       "47                      les diplémes de la FST Tanger  \n",
       "48               PRéSENTATION GéNéRALE sur FST Tanger  \n",
       "49                               Signification de MST  \n",
       "50                               signification de LST  \n",
       "51                             Signification de DEUST  \n",
       "52                                      MUSTAPHA DIAN  \n",
       "53                               signification de LST  \n",
       "54                               signification de MST  \n",
       "55                             Signification de DEUST  \n",
       "56                             c'est quoi fst Tanger   \n",
       "57                              signification de FSTT  \n",
       "58                   les formations sont les filieres  "
      ]
     },
     "execution_count": 7,
     "metadata": {},
     "output_type": "execute_result"
    }
   ],
   "source": [
    "general_info"
   ]
  },
  {
   "cell_type": "code",
   "execution_count": 8,
   "id": "26660074-41b9-4d0f-b507-e869080d6662",
   "metadata": {},
   "outputs": [],
   "source": [
    "clubs.rename(columns={'departement_info': 'club_description'}, inplace=True)"
   ]
  },
  {
   "cell_type": "code",
   "execution_count": 9,
   "id": "59a8a0d7-084f-4cb2-8ee1-c72e00a45fc8",
   "metadata": {},
   "outputs": [
    {
     "data": {
      "text/html": [
       "<div>\n",
       "<style scoped>\n",
       "    .dataframe tbody tr th:only-of-type {\n",
       "        vertical-align: middle;\n",
       "    }\n",
       "\n",
       "    .dataframe tbody tr th {\n",
       "        vertical-align: top;\n",
       "    }\n",
       "\n",
       "    .dataframe thead th {\n",
       "        text-align: right;\n",
       "    }\n",
       "</style>\n",
       "<table border=\"1\" class=\"dataframe\">\n",
       "  <thead>\n",
       "    <tr style=\"text-align: right;\">\n",
       "      <th></th>\n",
       "      <th>No</th>\n",
       "      <th>post_title</th>\n",
       "      <th>publish_date</th>\n",
       "      <th>post_content</th>\n",
       "      <th>post_link</th>\n",
       "    </tr>\n",
       "  </thead>\n",
       "  <tbody>\n",
       "    <tr>\n",
       "      <th>0</th>\n",
       "      <td>1</td>\n",
       "      <td>CYBERSEC360° : PERSPECTIVES EN CYBERSÉCURITÉ A...</td>\n",
       "      <td>mars 26, 2024</td>\n",
       "      <td>Un séminaire sera organisé le le samedi 30 Mar...</td>\n",
       "      <td>https://fstt.ac.ma/Portail2023/cybersec360-per...</td>\n",
       "    </tr>\n",
       "    <tr>\n",
       "      <th>1</th>\n",
       "      <td>2</td>\n",
       "      <td>PRÉSENTATION CONCOURS D’INNOVATION TDC</td>\n",
       "      <td>mars 26, 2024</td>\n",
       "      <td>À la suite de l’appel à candidature au concour...</td>\n",
       "      <td>https://fstt.ac.ma/Portail2023/presentation-co...</td>\n",
       "    </tr>\n",
       "    <tr>\n",
       "      <th>2</th>\n",
       "      <td>3</td>\n",
       "      <td>SÉMINAIRE : WATER RESOURCES MANAGEMENT FOR SUS...</td>\n",
       "      <td>mars 26, 2024</td>\n",
       "      <td>À l’occasion de la Journée mondiale de l’eau, ...</td>\n",
       "      <td>https://fstt.ac.ma/Portail2023/seminaire-water...</td>\n",
       "    </tr>\n",
       "    <tr>\n",
       "      <th>3</th>\n",
       "      <td>4</td>\n",
       "      <td>ORACLE MOROCCO R&amp;D CENTER : PROGRAMME DE STAGE...</td>\n",
       "      <td>mars 23, 2024</td>\n",
       "      <td>Oracle Morocco R&amp;D Center lance l’appel aux ca...</td>\n",
       "      <td>https://fstt.ac.ma/Portail2023/oracle-morocco-...</td>\n",
       "    </tr>\n",
       "    <tr>\n",
       "      <th>4</th>\n",
       "      <td>5</td>\n",
       "      <td>APPEL À PROJET : «TERRITORY DEVELOPMENT CHALLE...</td>\n",
       "      <td>mars 22, 2024</td>\n",
       "      <td>Le Centre régional d’investissement (CRI-TTA) ...</td>\n",
       "      <td>https://fstt.ac.ma/Portail2023/appel-a-projet-...</td>\n",
       "    </tr>\n",
       "  </tbody>\n",
       "</table>\n",
       "</div>"
      ],
      "text/plain": [
       "   No                                         post_title   publish_date  \\\n",
       "0   1  CYBERSEC360° : PERSPECTIVES EN CYBERSÉCURITÉ A...  mars 26, 2024   \n",
       "1   2             PRÉSENTATION CONCOURS D’INNOVATION TDC  mars 26, 2024   \n",
       "2   3  SÉMINAIRE : WATER RESOURCES MANAGEMENT FOR SUS...  mars 26, 2024   \n",
       "3   4  ORACLE MOROCCO R&D CENTER : PROGRAMME DE STAGE...  mars 23, 2024   \n",
       "4   5  APPEL À PROJET : «TERRITORY DEVELOPMENT CHALLE...  mars 22, 2024   \n",
       "\n",
       "                                        post_content  \\\n",
       "0  Un séminaire sera organisé le le samedi 30 Mar...   \n",
       "1  À la suite de l’appel à candidature au concour...   \n",
       "2  À l’occasion de la Journée mondiale de l’eau, ...   \n",
       "3  Oracle Morocco R&D Center lance l’appel aux ca...   \n",
       "4  Le Centre régional d’investissement (CRI-TTA) ...   \n",
       "\n",
       "                                           post_link  \n",
       "0  https://fstt.ac.ma/Portail2023/cybersec360-per...  \n",
       "1  https://fstt.ac.ma/Portail2023/presentation-co...  \n",
       "2  https://fstt.ac.ma/Portail2023/seminaire-water...  \n",
       "3  https://fstt.ac.ma/Portail2023/oracle-morocco-...  \n",
       "4  https://fstt.ac.ma/Portail2023/appel-a-projet-...  "
      ]
     },
     "execution_count": 9,
     "metadata": {},
     "output_type": "execute_result"
    }
   ],
   "source": [
    "article.head()"
   ]
  },
  {
   "cell_type": "code",
   "execution_count": 10,
   "id": "09269277-8962-4566-bd59-19823e15ad74",
   "metadata": {},
   "outputs": [],
   "source": [
    "# Create a new column by merging all columns with a formatted string\n",
    "article['merged_content1'] = article.apply(\n",
    "    lambda row: f\"titre de post ou article : {row['post_title']} | contenu post ou article : {row['post_content']} | lien de post ou article : {row['post_link']}\",\n",
    "    axis=1\n",
    ")"
   ]
  },
  {
   "cell_type": "code",
   "execution_count": 11,
   "id": "8bde32bc-fce2-43b6-b164-b9e514d77014",
   "metadata": {},
   "outputs": [],
   "source": [
    "# Create a new column by merging all columns with a formatted string\n",
    "article['merged_content2'] = article.apply(\n",
    "    lambda row: f\"post : {row['post_title']} | contenu du post : {row['post_content']}\",\n",
    "    axis=1\n",
    ")"
   ]
  },
  {
   "cell_type": "code",
   "execution_count": 12,
   "id": "73c8603a-038a-443d-8f2e-ea8899ef106f",
   "metadata": {},
   "outputs": [
    {
     "name": "stdout",
     "output_type": "stream",
     "text": [
      "titre de post ou article : CYBERSEC360° : PERSPECTIVES EN CYBERSÉCURITÉ AVANCÉE | contenu post ou article : Un séminaire sera organisé le le samedi 30 Mars 2024 (11h-13h) au profit des étudiants du Master Sécurité IT et Big Data et aux étudiants 2ème Année du cycle ingénieur LSI pour présenter et discuter les dernières tendances et les meilleures pratiques en matière de cybersécurité.\n",
      "Le séminaire sera présenté par le professeur Hicham GIBET TANI, professeur à Faculté Polydisciplinaire de Larache, consultant et spécialiste en cybersécurité, sous le titre : CyberSec360°  Perspectives en Cybersécurité Avancée. Il propose une plongée approfondie dans les domaines complexes des concepts de cybersécurité avancée. | lien de post ou article : https://fstt.ac.ma/Portail2023/cybersec360-perspectives-en-cybersecurite-avancee/\n"
     ]
    }
   ],
   "source": [
    "# Display the DataFrame\n",
    "print(article['merged_content1'][0])"
   ]
  },
  {
   "cell_type": "code",
   "execution_count": 13,
   "id": "4b39d0fe-8b39-4d62-9328-03ee0e4d178a",
   "metadata": {},
   "outputs": [
    {
     "name": "stdout",
     "output_type": "stream",
     "text": [
      "post : CYBERSEC360° : PERSPECTIVES EN CYBERSÉCURITÉ AVANCÉE | contenu du post : Un séminaire sera organisé le le samedi 30 Mars 2024 (11h-13h) au profit des étudiants du Master Sécurité IT et Big Data et aux étudiants 2ème Année du cycle ingénieur LSI pour présenter et discuter les dernières tendances et les meilleures pratiques en matière de cybersécurité.\n",
      "Le séminaire sera présenté par le professeur Hicham GIBET TANI, professeur à Faculté Polydisciplinaire de Larache, consultant et spécialiste en cybersécurité, sous le titre : CyberSec360°  Perspectives en Cybersécurité Avancée. Il propose une plongée approfondie dans les domaines complexes des concepts de cybersécurité avancée.\n"
     ]
    }
   ],
   "source": [
    "# Display the DataFrame\n",
    "print(article['merged_content2'][0])"
   ]
  },
  {
   "cell_type": "code",
   "execution_count": 14,
   "id": "dff70444-623a-4901-97c2-aeab3f5dd32b",
   "metadata": {},
   "outputs": [],
   "source": [
    "# Create a new column by merging all columns with a formatted string\n",
    "clubs['merged_content1'] = clubs.apply(\n",
    "    lambda row: f\"nom du club : {row['club_name']} | description du club  : {row['club_description']} | lien du club : {row['club_link']}\",\n",
    "    axis=1\n",
    ")"
   ]
  },
  {
   "cell_type": "code",
   "execution_count": 15,
   "id": "623e047b-998f-4b82-a380-02924489f0ee",
   "metadata": {},
   "outputs": [],
   "source": [
    "# Create a new column by merging all columns with a formatted string\n",
    "clubs['merged_content2'] = clubs.apply(\n",
    "    lambda row: f\"'{row['club_name']}' est un club dans FST Tanger, ce ca une description sur le club  : {row['club_description']}\",\n",
    "    axis=1\n",
    ")"
   ]
  },
  {
   "cell_type": "code",
   "execution_count": 16,
   "id": "9e6f2f2a-04be-46d0-9302-15b77279704d",
   "metadata": {},
   "outputs": [
    {
     "data": {
      "text/plain": [
       "'nom du club : GREENOLOGY | description du club  : Le Club de l’environnement de la FST de Tanger, Dénommé Greenology Club, est nouvellement créé et il a comme vocation de : – Transmettre aux étudiants, une conscience nationale éclairée, un patriotisme activé pour un environnement préservé. – Sensibiliser et rendre les étudiants de la FST de Tanger des combattants contre l’éparpillement de l’environnement. – Tous unis, bien convaincus que nos richesses environnementales très précieuses sont menacées, et qu’avec une conscience large du désastre écologique qui frappe à la porte de notre pays, on pourra gagner la bataille et sauver ce qu’il reste encore à sauver.\\nla page facebook:\\nhttps://www.facebook.com/greenology.club\\nEmail de contact :\\nResponsable d’activités 4saaddine@gmail.com | lien du club : https://fstt.ac.ma/Portail2023/greenology/'"
      ]
     },
     "execution_count": 16,
     "metadata": {},
     "output_type": "execute_result"
    }
   ],
   "source": [
    "clubs['merged_content1'][0]"
   ]
  },
  {
   "cell_type": "code",
   "execution_count": 17,
   "id": "a88112a7-2c95-4861-9691-80e0678e5b54",
   "metadata": {},
   "outputs": [
    {
     "data": {
      "text/plain": [
       "\"'GREENOLOGY' est un club dans FST Tanger, ce ca une description sur le club  : Le Club de l’environnement de la FST de Tanger, Dénommé Greenology Club, est nouvellement créé et il a comme vocation de : – Transmettre aux étudiants, une conscience nationale éclairée, un patriotisme activé pour un environnement préservé. – Sensibiliser et rendre les étudiants de la FST de Tanger des combattants contre l’éparpillement de l’environnement. – Tous unis, bien convaincus que nos richesses environnementales très précieuses sont menacées, et qu’avec une conscience large du désastre écologique qui frappe à la porte de notre pays, on pourra gagner la bataille et sauver ce qu’il reste encore à sauver.\\nla page facebook:\\nhttps://www.facebook.com/greenology.club\\nEmail de contact :\\nResponsable d’activités 4saaddine@gmail.com\""
      ]
     },
     "execution_count": 17,
     "metadata": {},
     "output_type": "execute_result"
    }
   ],
   "source": [
    "clubs['merged_content2'][0]"
   ]
  },
  {
   "cell_type": "code",
   "execution_count": 18,
   "id": "ee04d12e-4cb3-42f5-af94-234681f4e147",
   "metadata": {},
   "outputs": [],
   "source": [
    "# Remove newline characters from 'departement_info' column\n",
    "dep['departement_info'] = dep['departement_info'].str.replace('\\n', ' - ')"
   ]
  },
  {
   "cell_type": "code",
   "execution_count": 19,
   "id": "1189c30d-99db-4747-8708-e80a7be21c17",
   "metadata": {},
   "outputs": [
    {
     "data": {
      "text/html": [
       "<div>\n",
       "<style scoped>\n",
       "    .dataframe tbody tr th:only-of-type {\n",
       "        vertical-align: middle;\n",
       "    }\n",
       "\n",
       "    .dataframe tbody tr th {\n",
       "        vertical-align: top;\n",
       "    }\n",
       "\n",
       "    .dataframe thead th {\n",
       "        text-align: right;\n",
       "    }\n",
       "</style>\n",
       "<table border=\"1\" class=\"dataframe\">\n",
       "  <thead>\n",
       "    <tr style=\"text-align: right;\">\n",
       "      <th></th>\n",
       "      <th>No</th>\n",
       "      <th>departement_name</th>\n",
       "      <th>departement_info</th>\n",
       "    </tr>\n",
       "  </thead>\n",
       "  <tbody>\n",
       "    <tr>\n",
       "      <th>0</th>\n",
       "      <td>1</td>\n",
       "      <td>GÉNIE INFORMATIQUE</td>\n",
       "      <td>Chef : Pr.EL BRAK Mohamed     - Email :   melb...</td>\n",
       "    </tr>\n",
       "    <tr>\n",
       "      <th>1</th>\n",
       "      <td>2</td>\n",
       "      <td>GÉNIE CHIMIQUE</td>\n",
       "      <td>Chef : Pr.CHABBI Mohamed - Email : mchabbi@uae...</td>\n",
       "    </tr>\n",
       "    <tr>\n",
       "      <th>2</th>\n",
       "      <td>3</td>\n",
       "      <td>SCIENCES DE LA TERRE</td>\n",
       "      <td>Chef : Pr.BOULAASSAL Hakim - Email : h.boulaas...</td>\n",
       "    </tr>\n",
       "    <tr>\n",
       "      <th>3</th>\n",
       "      <td>4</td>\n",
       "      <td>GÉNIE MÉCANIQUE</td>\n",
       "      <td>Chef : Pr.ELAYACHI Ilham -           - Email :...</td>\n",
       "    </tr>\n",
       "    <tr>\n",
       "      <th>4</th>\n",
       "      <td>5</td>\n",
       "      <td>SCIENCES DE LA VIE</td>\n",
       "      <td>Chef : Pr.HASSANI ZERROUK Mounir - Email : mha...</td>\n",
       "    </tr>\n",
       "  </tbody>\n",
       "</table>\n",
       "</div>"
      ],
      "text/plain": [
       "   No      departement_name                                   departement_info\n",
       "0   1    GÉNIE INFORMATIQUE  Chef : Pr.EL BRAK Mohamed     - Email :   melb...\n",
       "1   2        GÉNIE CHIMIQUE  Chef : Pr.CHABBI Mohamed - Email : mchabbi@uae...\n",
       "2   3  SCIENCES DE LA TERRE  Chef : Pr.BOULAASSAL Hakim - Email : h.boulaas...\n",
       "3   4       GÉNIE MÉCANIQUE  Chef : Pr.ELAYACHI Ilham -           - Email :...\n",
       "4   5    SCIENCES DE LA VIE  Chef : Pr.HASSANI ZERROUK Mounir - Email : mha..."
      ]
     },
     "execution_count": 19,
     "metadata": {},
     "output_type": "execute_result"
    }
   ],
   "source": [
    "dep.head()"
   ]
  },
  {
   "cell_type": "code",
   "execution_count": 20,
   "id": "b532a769-e9d7-41d6-9b25-4a77b565b564",
   "metadata": {},
   "outputs": [],
   "source": [
    "# Create a new column by merging all columns with a formatted string\n",
    "dep['merged_content1'] = dep.apply(\n",
    "    lambda row: f\"nom de departement : {row['departement_name']} | le nom de Coordinnateur avec son email : {row['departement_info']}\",\n",
    "    axis=1\n",
    ")"
   ]
  },
  {
   "cell_type": "code",
   "execution_count": 21,
   "id": "6289b16e-712a-491c-a5e9-88f4849cd59c",
   "metadata": {},
   "outputs": [],
   "source": [
    "# Create a new column by merging all columns with a formatted string\n",
    "dep['merged_content2'] = dep.apply(\n",
    "    lambda row: f\"'{row['departement_name']}' est un departement dans FST Tanger, et le nom de Coordinnateur avec son email est {row['departement_info']}\",\n",
    "    axis=1\n",
    ")"
   ]
  },
  {
   "cell_type": "code",
   "execution_count": 22,
   "id": "2e5655bc-f41a-4c73-9b39-f01ec1d47c62",
   "metadata": {},
   "outputs": [],
   "source": [
    "# Create a new column by merging all columns with a formatted string\n",
    "dep['merged_content3'] = dep.apply(\n",
    "    lambda row: f\"le nom de Coordinnateur de departement '{row['departement_name']}' est {row['departement_info']}\",\n",
    "    axis=1\n",
    ")"
   ]
  },
  {
   "cell_type": "code",
   "execution_count": 23,
   "id": "8b7dfda7-caf3-40df-9b4f-0da7eba716df",
   "metadata": {},
   "outputs": [
    {
     "data": {
      "text/plain": [
       "'nom de departement : GÉNIE INFORMATIQUE | le nom de Coordinnateur avec son email : Chef : Pr.EL BRAK Mohamed     - Email :   melbrak@uae.ac.ma'"
      ]
     },
     "execution_count": 23,
     "metadata": {},
     "output_type": "execute_result"
    }
   ],
   "source": [
    "dep['merged_content1'][0]"
   ]
  },
  {
   "cell_type": "code",
   "execution_count": 24,
   "id": "174c66f9-76b4-4668-a93c-a7a438864c6c",
   "metadata": {},
   "outputs": [
    {
     "data": {
      "text/plain": [
       "\"'GÉNIE INFORMATIQUE' est un departement dans FST Tanger, et le nom de Coordinnateur avec son email est Chef : Pr.EL BRAK Mohamed     - Email :   melbrak@uae.ac.ma\""
      ]
     },
     "execution_count": 24,
     "metadata": {},
     "output_type": "execute_result"
    }
   ],
   "source": [
    "dep['merged_content2'][0]"
   ]
  },
  {
   "cell_type": "code",
   "execution_count": 25,
   "id": "a53c238d-9ab3-4ef2-bbb9-2884e6315224",
   "metadata": {},
   "outputs": [
    {
     "data": {
      "text/plain": [
       "\"le nom de Coordinnateur de departement 'GÉNIE INFORMATIQUE' est Chef : Pr.EL BRAK Mohamed     - Email :   melbrak@uae.ac.ma\""
      ]
     },
     "execution_count": 25,
     "metadata": {},
     "output_type": "execute_result"
    }
   ],
   "source": [
    "dep['merged_content3'][0]"
   ]
  },
  {
   "cell_type": "code",
   "execution_count": 26,
   "id": "c7d082f2-8290-499f-bcc5-5ac042a7aaa6",
   "metadata": {},
   "outputs": [
    {
     "data": {
      "text/html": [
       "<div>\n",
       "<style scoped>\n",
       "    .dataframe tbody tr th:only-of-type {\n",
       "        vertical-align: middle;\n",
       "    }\n",
       "\n",
       "    .dataframe tbody tr th {\n",
       "        vertical-align: top;\n",
       "    }\n",
       "\n",
       "    .dataframe thead th {\n",
       "        text-align: right;\n",
       "    }\n",
       "</style>\n",
       "<table border=\"1\" class=\"dataframe\">\n",
       "  <thead>\n",
       "    <tr style=\"text-align: right;\">\n",
       "      <th></th>\n",
       "      <th>No</th>\n",
       "      <th>mst_name</th>\n",
       "      <th>formation_type</th>\n",
       "      <th>mst_link</th>\n",
       "      <th>mst_objectif</th>\n",
       "      <th>mst_program</th>\n",
       "      <th>mst_skills</th>\n",
       "      <th>mst_Coord</th>\n",
       "    </tr>\n",
       "  </thead>\n",
       "  <tbody>\n",
       "    <tr>\n",
       "      <th>0</th>\n",
       "      <td>1</td>\n",
       "      <td>MST : Analyse Appliquée et Ingénierie Statistique</td>\n",
       "      <td>mst</td>\n",
       "      <td>https://fstt.ac.ma/Portail2023/mst-analyse-app...</td>\n",
       "      <td>Le Master Analyse Appliquée et Ingénierie Stat...</td>\n",
       "      <td>{'Semestre 1': ['', ' Statistique mathématique...</td>\n",
       "      <td>Donner une formation mathématique et statistiq...</td>\n",
       "      <td>Coordinnateur pédagogique  : Pr.EL HALIMI Rach...</td>\n",
       "    </tr>\n",
       "    <tr>\n",
       "      <th>1</th>\n",
       "      <td>2</td>\n",
       "      <td>MST : Bases Cellulaires et Moléculaires en Bio...</td>\n",
       "      <td>mst</td>\n",
       "      <td>https://fstt.ac.ma/Portail2023/mst-bases-cellu...</td>\n",
       "      <td>Le master BCMB vise la formation des spécialis...</td>\n",
       "      <td>{'Semestre 1': ['', ' Techniques Expérimentale...</td>\n",
       "      <td>Secteur public : chercheur, responsable, ingén...</td>\n",
       "      <td>Coordinnateur pédagogique : Pr.Mohamed NHIRI  ...</td>\n",
       "    </tr>\n",
       "    <tr>\n",
       "      <th>2</th>\n",
       "      <td>3</td>\n",
       "      <td>MST : Environnement, Aquaculture et Développem...</td>\n",
       "      <td>mst</td>\n",
       "      <td>https://fstt.ac.ma/Portail2023/mst-environneme...</td>\n",
       "      <td>Encore peu développée au Maroc, l’aquaculture ...</td>\n",
       "      <td>{'Semestre 1': ['', ' Écosystèmes aquatiques e...</td>\n",
       "      <td>NaN</td>\n",
       "      <td>Coordinnateur pédagogique : Pr.Hassan Er-RAIOU...</td>\n",
       "    </tr>\n",
       "    <tr>\n",
       "      <th>3</th>\n",
       "      <td>4</td>\n",
       "      <td>MST : Géoressources Energétiques et Réservoirs</td>\n",
       "      <td>mst</td>\n",
       "      <td>https://fstt.ac.ma/Portail2023/mst-georessourc...</td>\n",
       "      <td>L’activité accrue dans la recherche en géoscie...</td>\n",
       "      <td>{'Semestre 1': ['', ' Géodynamique et Analyse ...</td>\n",
       "      <td>NaN</td>\n",
       "      <td>Coordinnateur pédagogique : Pr.Mohamed Najib Z...</td>\n",
       "    </tr>\n",
       "    <tr>\n",
       "      <th>4</th>\n",
       "      <td>5</td>\n",
       "      <td>MST : Génie Civil</td>\n",
       "      <td>mst</td>\n",
       "      <td>https://fstt.ac.ma/Portail2023/mst-genie-civil/</td>\n",
       "      <td>Le programme vise la formation des cadres en G...</td>\n",
       "      <td>{'Semestre 1': ['', ' Mathématiques Pour l’Ing...</td>\n",
       "      <td>NaN</td>\n",
       "      <td>Coordinnateur pédagogique : Pr.Dkiouak Rachid ...</td>\n",
       "    </tr>\n",
       "  </tbody>\n",
       "</table>\n",
       "</div>"
      ],
      "text/plain": [
       "   No                                           mst_name formation_type  \\\n",
       "0   1  MST : Analyse Appliquée et Ingénierie Statistique            mst   \n",
       "1   2  MST : Bases Cellulaires et Moléculaires en Bio...            mst   \n",
       "2   3  MST : Environnement, Aquaculture et Développem...            mst   \n",
       "3   4     MST : Géoressources Energétiques et Réservoirs            mst   \n",
       "4   5                                  MST : Génie Civil            mst   \n",
       "\n",
       "                                            mst_link  \\\n",
       "0  https://fstt.ac.ma/Portail2023/mst-analyse-app...   \n",
       "1  https://fstt.ac.ma/Portail2023/mst-bases-cellu...   \n",
       "2  https://fstt.ac.ma/Portail2023/mst-environneme...   \n",
       "3  https://fstt.ac.ma/Portail2023/mst-georessourc...   \n",
       "4    https://fstt.ac.ma/Portail2023/mst-genie-civil/   \n",
       "\n",
       "                                        mst_objectif  \\\n",
       "0  Le Master Analyse Appliquée et Ingénierie Stat...   \n",
       "1  Le master BCMB vise la formation des spécialis...   \n",
       "2  Encore peu développée au Maroc, l’aquaculture ...   \n",
       "3  L’activité accrue dans la recherche en géoscie...   \n",
       "4  Le programme vise la formation des cadres en G...   \n",
       "\n",
       "                                         mst_program  \\\n",
       "0  {'Semestre 1': ['', ' Statistique mathématique...   \n",
       "1  {'Semestre 1': ['', ' Techniques Expérimentale...   \n",
       "2  {'Semestre 1': ['', ' Écosystèmes aquatiques e...   \n",
       "3  {'Semestre 1': ['', ' Géodynamique et Analyse ...   \n",
       "4  {'Semestre 1': ['', ' Mathématiques Pour l’Ing...   \n",
       "\n",
       "                                          mst_skills  \\\n",
       "0  Donner une formation mathématique et statistiq...   \n",
       "1  Secteur public : chercheur, responsable, ingén...   \n",
       "2                                                NaN   \n",
       "3                                                NaN   \n",
       "4                                                NaN   \n",
       "\n",
       "                                           mst_Coord  \n",
       "0  Coordinnateur pédagogique  : Pr.EL HALIMI Rach...  \n",
       "1  Coordinnateur pédagogique : Pr.Mohamed NHIRI  ...  \n",
       "2  Coordinnateur pédagogique : Pr.Hassan Er-RAIOU...  \n",
       "3  Coordinnateur pédagogique : Pr.Mohamed Najib Z...  \n",
       "4  Coordinnateur pédagogique : Pr.Dkiouak Rachid ...  "
      ]
     },
     "execution_count": 26,
     "metadata": {},
     "output_type": "execute_result"
    }
   ],
   "source": [
    "formation.head()"
   ]
  },
  {
   "cell_type": "code",
   "execution_count": 27,
   "id": "061c89ae-8ce5-462e-9de5-b82977a8d908",
   "metadata": {},
   "outputs": [],
   "source": [
    "# Create a new column by merging all columns with a formatted string\n",
    "formation['merged_content1'] = formation.apply(\n",
    "    lambda row: f\"nom de formation : {row['mst_name']} | type de formation  : {row['formation_type']} | objective de formation  : {row['mst_objectif']} | programme de formation : {row['mst_program']} | Coordinnateur de formation : {row['mst_Coord']} | link de formation : {row['mst_link']} |\",\n",
    "    axis=1\n",
    ")"
   ]
  },
  {
   "cell_type": "code",
   "execution_count": 28,
   "id": "4de2cb4f-18e2-4fab-9396-d5df0df0aaf2",
   "metadata": {},
   "outputs": [],
   "source": [
    "# Create a new column by merging all columns with a formatted string\n",
    "formation['merged_content2'] = formation.apply(\n",
    "    lambda row: f\"objective de formation : '{row['mst_name']}', est {row['mst_objectif']}.\",\n",
    "    axis=1\n",
    ")"
   ]
  },
  {
   "cell_type": "code",
   "execution_count": 29,
   "id": "42041ac7-49d8-437a-a23f-117ace272bd4",
   "metadata": {},
   "outputs": [],
   "source": [
    "# Create a new column by merging all columns with a formatted string\n",
    "formation['merged_content3'] = formation.apply(\n",
    "    lambda row: f\"'{row['mst_name']}' est un formation dans FST Tanger de type : {row['formation_type']}\",\n",
    "    axis=1\n",
    ")"
   ]
  },
  {
   "cell_type": "code",
   "execution_count": 30,
   "id": "ae091eb4-989c-4e00-8df6-f83cde617fc2",
   "metadata": {},
   "outputs": [],
   "source": [
    "# Create a new column by merging all columns with a formatted string\n",
    "formation['merged_content4'] = formation.apply(\n",
    "    lambda row: f\"le programme de formation : '{row['mst_name']}' est : {dict_to_ordered_string(ast.literal_eval(row['mst_program']))}\",\n",
    "    axis=1\n",
    ")"
   ]
  },
  {
   "cell_type": "code",
   "execution_count": 31,
   "id": "59adbdf2-be68-4a9e-9f39-d5009388b62d",
   "metadata": {},
   "outputs": [],
   "source": [
    "# Create a new column by merging all columns with a formatted string\n",
    "formation['merged_content5'] = formation.apply(\n",
    "    lambda row: f\"Le Coordinnateur de formation '{row['mst_name']}' est {row['mst_Coord']}\",\n",
    "    axis=1\n",
    ")"
   ]
  },
  {
   "cell_type": "code",
   "execution_count": 32,
   "id": "922ab1b5-fcfc-4364-84ce-5388f9aa706c",
   "metadata": {},
   "outputs": [],
   "source": [
    "# Create a new column by merging all columns with a formatted string\n",
    "formation['merged_content6'] = formation.apply(lambda row: f\"link de formation '{row['mst_name']}' est : {row['mst_link']}\", axis=1)"
   ]
  },
  {
   "cell_type": "code",
   "execution_count": 33,
   "id": "c7a29d75-9a0f-4971-afdd-f7f8309e57bb",
   "metadata": {},
   "outputs": [
    {
     "data": {
      "text/plain": [
       "\"nom de formation : MST : Analyse Appliquée et Ingénierie Statistique | type de formation  : mst | objective de formation  : Le Master Analyse Appliquée et Ingénierie Statistique (MAAIS) de l'Université Abdelmalek Essaadi a pour vocation d'offrir des parcours qui trouvent leurs bases dans une approche pluridisciplinaire. Au département de mathématiques on propose aux étudiants d’acquérir une double compétence en mathématiques et en statistiques appliquées s’appuyant sur un tronc commun développant des concepts et des outils de base. Pour une approche pluridisciplinaire des problèmes liés aux applications, les mathématiques et les statistiques appliquées ne peuvent que former des étudiants pour la recherche et les activités professionnelles de haut niveau avec un bon bagage mathématique. La spécialisation se ferait au terme du second semestre (S2) selon le choix des étudiants. En plus une bonne formation en tronc commun solide permettra de mieux optimiser les ressources humaines surtout au niveau des encadrants des PFEs (Master) et/ou des Doctorants. | programme de formation : {'Semestre 1': ['', ' Statistique mathématique (inférence 1)', ' Programmation avancée', ' Compléments d’analyses', ' Compléments d’algèbres', ' Analyse Numérique Matricielle et Calcul Parallèle', ' Équation différentielle stochastique (EDS)'], 'Semestre 2': ['', ' Théorie des EDP', ' Statistiques décisionnelles et simulation', ' Analyse fonctionnelle appliquée I', ' Les éléments finis et calculs scientifiques', ' Optimisation et contrôle optimale', ' Anglais Scientifique I (Soft Skills)'], 'Semestre 3 - SA': ['', ' Analyses de données & BIG DATA', ' ANOVA & Modèles MIXTES', ' Techniques de Sondages', ' Statistique des valeurs extrêmes', ' Séries chronologiques', ' Anglais Scientifiques II (Soft Skills)'], 'Semestre 3 - SM': ['', ' Homogénéisation et Analyses asymptotiques', ' Modélisation 1 et Système dynamiques', ' Réseaux de Neurones et Apprentissage Automatique & Programmation avancée 2', ' Espaces Lebesgue et Sobolev & Méthode variationelle', ' Analyses numériques des systèmes hyperboliques & Méthodes des volumes finis', ' Analyse numérique']} | Coordinnateur de formation : Coordinnateur pédagogique  : Pr.EL HALIMI Rachid \\xa0 \\xa0 \\xa0 \\xa0 \\xa0:\\xa0 r.elhalimi@uae.ac.ma | link de formation : https://fstt.ac.ma/Portail2023/mst-analyse-appliquee-etingenierie-statistique/ |\""
      ]
     },
     "execution_count": 33,
     "metadata": {},
     "output_type": "execute_result"
    }
   ],
   "source": [
    "formation['merged_content1'][0]"
   ]
  },
  {
   "cell_type": "code",
   "execution_count": 34,
   "id": "3b04cda8-21c2-496e-ab5c-13ea8b2d2d88",
   "metadata": {},
   "outputs": [
    {
     "data": {
      "text/plain": [
       "\"objective de formation : 'MST : Analyse Appliquée et Ingénierie Statistique', est Le Master Analyse Appliquée et Ingénierie Statistique (MAAIS) de l'Université Abdelmalek Essaadi a pour vocation d'offrir des parcours qui trouvent leurs bases dans une approche pluridisciplinaire. Au département de mathématiques on propose aux étudiants d’acquérir une double compétence en mathématiques et en statistiques appliquées s’appuyant sur un tronc commun développant des concepts et des outils de base. Pour une approche pluridisciplinaire des problèmes liés aux applications, les mathématiques et les statistiques appliquées ne peuvent que former des étudiants pour la recherche et les activités professionnelles de haut niveau avec un bon bagage mathématique. La spécialisation se ferait au terme du second semestre (S2) selon le choix des étudiants. En plus une bonne formation en tronc commun solide permettra de mieux optimiser les ressources humaines surtout au niveau des encadrants des PFEs (Master) et/ou des Doctorants..\""
      ]
     },
     "execution_count": 34,
     "metadata": {},
     "output_type": "execute_result"
    }
   ],
   "source": [
    "formation['merged_content2'][0]"
   ]
  },
  {
   "cell_type": "code",
   "execution_count": 35,
   "id": "0dad3637-4532-470f-914f-49322c5b4755",
   "metadata": {},
   "outputs": [
    {
     "data": {
      "text/plain": [
       "\"'MST : Analyse Appliquée et Ingénierie Statistique' est un formation dans FST Tanger de type : mst\""
      ]
     },
     "execution_count": 35,
     "metadata": {},
     "output_type": "execute_result"
    }
   ],
   "source": [
    "formation['merged_content3'][0]"
   ]
  },
  {
   "cell_type": "code",
   "execution_count": 36,
   "id": "5a4b43bb-3361-4e6f-90a7-16374675dfdc",
   "metadata": {},
   "outputs": [
    {
     "data": {
      "text/plain": [
       "\"le programme de formation : 'MST : Analyse Appliquée et Ingénierie Statistique' est : Semestre 1:  Statistique mathématique (inférence 1),  Programmation avancée,  Compléments d’analyses,  Compléments d’algèbres,  Analyse Numérique Matricielle et Calcul Parallèle,  Équation différentielle stochastique (EDS) \\n Semestre 2:  Théorie des EDP,  Statistiques décisionnelles et simulation,  Analyse fonctionnelle appliquée I,  Les éléments finis et calculs scientifiques,  Optimisation et contrôle optimale,  Anglais Scientifique I (Soft Skills) \\n Semestre 3 - SA:  Analyses de données & BIG DATA,  ANOVA & Modèles MIXTES,  Techniques de Sondages,  Statistique des valeurs extrêmes,  Séries chronologiques,  Anglais Scientifiques II (Soft Skills) \\n Semestre 3 - SM:  Homogénéisation et Analyses asymptotiques,  Modélisation 1 et Système dynamiques,  Réseaux de Neurones et Apprentissage Automatique & Programmation avancée 2,  Espaces Lebesgue et Sobolev & Méthode variationelle,  Analyses numériques des systèmes hyperboliques & Méthodes des volumes finis,  Analyse numérique\""
      ]
     },
     "execution_count": 36,
     "metadata": {},
     "output_type": "execute_result"
    }
   ],
   "source": [
    "formation['merged_content4'][0]"
   ]
  },
  {
   "cell_type": "code",
   "execution_count": 37,
   "id": "8f5fd718-8385-4179-bab0-58da3571c7ef",
   "metadata": {},
   "outputs": [
    {
     "data": {
      "text/plain": [
       "\"Le Coordinnateur de formation 'MST : Analyse Appliquée et Ingénierie Statistique' est Coordinnateur pédagogique  : Pr.EL HALIMI Rachid \\xa0 \\xa0 \\xa0 \\xa0 \\xa0:\\xa0 r.elhalimi@uae.ac.ma\""
      ]
     },
     "execution_count": 37,
     "metadata": {},
     "output_type": "execute_result"
    }
   ],
   "source": [
    "formation['merged_content5'][0]"
   ]
  },
  {
   "cell_type": "code",
   "execution_count": 38,
   "id": "13e1fb60-e97d-4411-939c-092c20de35ae",
   "metadata": {},
   "outputs": [
    {
     "data": {
      "text/plain": [
       "\"link de formation 'MST : Analyse Appliquée et Ingénierie Statistique' est : https://fstt.ac.ma/Portail2023/mst-analyse-appliquee-etingenierie-statistique/\""
      ]
     },
     "execution_count": 38,
     "metadata": {},
     "output_type": "execute_result"
    }
   ],
   "source": [
    "formation['merged_content6'][0]"
   ]
  },
  {
   "cell_type": "code",
   "execution_count": 39,
   "id": "6ca61766-8650-4de4-9dce-f39e11dbd8c0",
   "metadata": {},
   "outputs": [
    {
     "data": {
      "text/plain": [
       "\"Le Coordinnateur de formation 'MST : Intelligence Artificielle et Sciences de Données' est Coordinnateur pédagogique  : Pr.EZZIYYANI MOSTAFA \\xa0 \\xa0 \\xa0 \\xa0 \\xa0:\\xa0 mezziyyani@uae.ac.ma\""
      ]
     },
     "execution_count": 39,
     "metadata": {},
     "output_type": "execute_result"
    }
   ],
   "source": [
    "formation[\"merged_content5\"][8]"
   ]
  },
  {
   "cell_type": "code",
   "execution_count": 40,
   "id": "11e12693-c977-41d4-aeec-073389ac7cc5",
   "metadata": {},
   "outputs": [],
   "source": [
    "def is_french(text):\n",
    "    try:\n",
    "        return detect(text) == 'fr'\n",
    "    except:\n",
    "        return False\n",
    "        texttext\n",
    "def preprocessing(text):\n",
    "    # Convert to string and lowercase\n",
    "    text = str(text).lower()\n",
    "    \n",
    "    # Remove URLs\n",
    "    # text = re.sub(r'http\\S+|www\\S+|https\\S+', '', text, flags=re.MULTILINE)\n",
    "    \n",
    "    # Remove mentions\n",
    "    text = re.sub(r'@\\w+', ' ', text)\n",
    "\n",
    "    text = re.sub(r'\\xa0', ' ', text)\n",
    "    \n",
    "    # Remove \\n\n",
    "    text = re.sub(r'\\n', ' ', text)\n",
    "    \n",
    "    # Remove specific unwanted characters\n",
    "    text = re.sub(r'«|»|“|”|’|‘', ' ', text)\n",
    "    \n",
    "    # Check if text is in French\n",
    "    if not is_french(text):\n",
    "        return ''\n",
    "\n",
    "    # tokens = word_tokenize(text)\n",
    "\n",
    "    # tokens = [token for token in tokens if token not in french_stopwords]\n",
    "\n",
    "    # return ' '.join(tokens)\n",
    "\n",
    "    return text"
   ]
  },
  {
   "cell_type": "code",
   "execution_count": 41,
   "id": "4627271d-c0ab-4ef3-a97f-8cdb3f7c8778",
   "metadata": {},
   "outputs": [],
   "source": [
    "article[\"merged_content1\"] = article[\"merged_content1\"].apply(preprocessing)\n",
    "article[\"merged_content2\"] = article[\"merged_content2\"].apply(preprocessing)\n",
    "clubs[\"merged_content1\"] = clubs[\"merged_content1\"].apply(preprocessing)\n",
    "clubs[\"merged_content2\"] = clubs[\"merged_content2\"].apply(preprocessing)\n",
    "dep[\"merged_content1\"] = dep[\"merged_content1\"].apply(preprocessing)\n",
    "dep[\"merged_content2\"] = dep[\"merged_content2\"].apply(preprocessing)\n",
    "dep[\"merged_content3\"] = dep[\"merged_content3\"].apply(preprocessing)\n",
    "formation[\"merged_content1\"] = formation[\"merged_content1\"].apply(preprocessing)\n",
    "formation[\"merged_content2\"] = formation[\"merged_content2\"].apply(preprocessing)\n",
    "formation[\"merged_content3\"] = formation[\"merged_content3\"].apply(preprocessing)\n",
    "formation[\"merged_content4\"] = formation[\"merged_content4\"].apply(preprocessing)\n",
    "formation[\"merged_content5\"] = formation[\"merged_content5\"].apply(preprocessing)\n",
    "formation[\"merged_content6\"] = formation[\"merged_content6\"].apply(preprocessing)\n",
    "general_info['info'] = general_info['info'].apply(preprocessing)"
   ]
  },
  {
   "cell_type": "code",
   "execution_count": 42,
   "id": "ab5f9c3b-6f2c-459b-9e1c-b2d341cffcd8",
   "metadata": {},
   "outputs": [
    {
     "data": {
      "text/plain": [
       "'post : cybersec360° : perspectives en cybersécurité avancée | contenu du post : un séminaire sera organisé le le samedi 30 mars 2024 (11h-13h) au profit des étudiants du master sécurité it et big data et aux étudiants 2ème année du cycle ingénieur lsi pour présenter et discuter les dernières tendances et les meilleures pratiques en matière de cybersécurité. le séminaire sera présenté par le professeur hicham gibet tani, professeur à faculté polydisciplinaire de larache, consultant et spécialiste en cybersécurité, sous le titre : cybersec360°  perspectives en cybersécurité avancée. il propose une plongée approfondie dans les domaines complexes des concepts de cybersécurité avancée.'"
      ]
     },
     "execution_count": 42,
     "metadata": {},
     "output_type": "execute_result"
    }
   ],
   "source": [
    "article[\"merged_content2\"][0]"
   ]
  },
  {
   "cell_type": "code",
   "execution_count": 43,
   "id": "e0b04512-0b6f-4f96-a566-1188bf698416",
   "metadata": {},
   "outputs": [],
   "source": [
    "article.drop(columns=\"No\", inplace=True)\n",
    "clubs.drop(columns=\"No\", inplace=True)\n",
    "formation.drop(columns=\"No\", inplace=True)\n",
    "dep.drop(columns=\"No\", inplace=True)"
   ]
  },
  {
   "cell_type": "code",
   "execution_count": 48,
   "id": "45873445-f84e-40d9-8a82-edb4460a6700",
   "metadata": {},
   "outputs": [
    {
     "ename": "ValueError",
     "evalue": "Could not connect to a Chroma server. Are you sure it is running?",
     "output_type": "error",
     "traceback": [
      "\u001b[0;31m---------------------------------------------------------------------------\u001b[0m",
      "\u001b[0;31mConnectionRefusedError\u001b[0m                    Traceback (most recent call last)",
      "File \u001b[0;32m/usr/lib/python3/dist-packages/urllib3/connection.py:174\u001b[0m, in \u001b[0;36mHTTPConnection._new_conn\u001b[0;34m(self)\u001b[0m\n\u001b[1;32m    173\u001b[0m \u001b[38;5;28;01mtry\u001b[39;00m:\n\u001b[0;32m--> 174\u001b[0m     conn \u001b[38;5;241m=\u001b[39m \u001b[43mconnection\u001b[49m\u001b[38;5;241;43m.\u001b[39;49m\u001b[43mcreate_connection\u001b[49m\u001b[43m(\u001b[49m\n\u001b[1;32m    175\u001b[0m \u001b[43m        \u001b[49m\u001b[43m(\u001b[49m\u001b[38;5;28;43mself\u001b[39;49m\u001b[38;5;241;43m.\u001b[39;49m\u001b[43m_dns_host\u001b[49m\u001b[43m,\u001b[49m\u001b[43m \u001b[49m\u001b[38;5;28;43mself\u001b[39;49m\u001b[38;5;241;43m.\u001b[39;49m\u001b[43mport\u001b[49m\u001b[43m)\u001b[49m\u001b[43m,\u001b[49m\u001b[43m \u001b[49m\u001b[38;5;28;43mself\u001b[39;49m\u001b[38;5;241;43m.\u001b[39;49m\u001b[43mtimeout\u001b[49m\u001b[43m,\u001b[49m\u001b[43m \u001b[49m\u001b[38;5;241;43m*\u001b[39;49m\u001b[38;5;241;43m*\u001b[39;49m\u001b[43mextra_kw\u001b[49m\n\u001b[1;32m    176\u001b[0m \u001b[43m    \u001b[49m\u001b[43m)\u001b[49m\n\u001b[1;32m    178\u001b[0m \u001b[38;5;28;01mexcept\u001b[39;00m SocketTimeout:\n",
      "File \u001b[0;32m/usr/lib/python3/dist-packages/urllib3/util/connection.py:96\u001b[0m, in \u001b[0;36mcreate_connection\u001b[0;34m(address, timeout, source_address, socket_options)\u001b[0m\n\u001b[1;32m     95\u001b[0m \u001b[38;5;28;01mif\u001b[39;00m err \u001b[38;5;129;01mis\u001b[39;00m \u001b[38;5;129;01mnot\u001b[39;00m \u001b[38;5;28;01mNone\u001b[39;00m:\n\u001b[0;32m---> 96\u001b[0m     \u001b[38;5;28;01mraise\u001b[39;00m err\n\u001b[1;32m     98\u001b[0m \u001b[38;5;28;01mraise\u001b[39;00m socket\u001b[38;5;241m.\u001b[39merror(\u001b[38;5;124m\"\u001b[39m\u001b[38;5;124mgetaddrinfo returns an empty list\u001b[39m\u001b[38;5;124m\"\u001b[39m)\n",
      "File \u001b[0;32m/usr/lib/python3/dist-packages/urllib3/util/connection.py:86\u001b[0m, in \u001b[0;36mcreate_connection\u001b[0;34m(address, timeout, source_address, socket_options)\u001b[0m\n\u001b[1;32m     85\u001b[0m     sock\u001b[38;5;241m.\u001b[39mbind(source_address)\n\u001b[0;32m---> 86\u001b[0m \u001b[43msock\u001b[49m\u001b[38;5;241;43m.\u001b[39;49m\u001b[43mconnect\u001b[49m\u001b[43m(\u001b[49m\u001b[43msa\u001b[49m\u001b[43m)\u001b[49m\n\u001b[1;32m     87\u001b[0m \u001b[38;5;28;01mreturn\u001b[39;00m sock\n",
      "\u001b[0;31mConnectionRefusedError\u001b[0m: [Errno 111] Connection refused",
      "\nDuring handling of the above exception, another exception occurred:\n",
      "\u001b[0;31mNewConnectionError\u001b[0m                        Traceback (most recent call last)",
      "File \u001b[0;32m/usr/lib/python3/dist-packages/urllib3/connectionpool.py:716\u001b[0m, in \u001b[0;36mHTTPConnectionPool.urlopen\u001b[0;34m(self, method, url, body, headers, retries, redirect, assert_same_host, timeout, pool_timeout, release_conn, chunked, body_pos, **response_kw)\u001b[0m\n\u001b[1;32m    715\u001b[0m \u001b[38;5;66;03m# Make the request on the httplib connection object.\u001b[39;00m\n\u001b[0;32m--> 716\u001b[0m httplib_response \u001b[38;5;241m=\u001b[39m \u001b[38;5;28;43mself\u001b[39;49m\u001b[38;5;241;43m.\u001b[39;49m\u001b[43m_make_request\u001b[49m\u001b[43m(\u001b[49m\n\u001b[1;32m    717\u001b[0m \u001b[43m    \u001b[49m\u001b[43mconn\u001b[49m\u001b[43m,\u001b[49m\n\u001b[1;32m    718\u001b[0m \u001b[43m    \u001b[49m\u001b[43mmethod\u001b[49m\u001b[43m,\u001b[49m\n\u001b[1;32m    719\u001b[0m \u001b[43m    \u001b[49m\u001b[43murl\u001b[49m\u001b[43m,\u001b[49m\n\u001b[1;32m    720\u001b[0m \u001b[43m    \u001b[49m\u001b[43mtimeout\u001b[49m\u001b[38;5;241;43m=\u001b[39;49m\u001b[43mtimeout_obj\u001b[49m\u001b[43m,\u001b[49m\n\u001b[1;32m    721\u001b[0m \u001b[43m    \u001b[49m\u001b[43mbody\u001b[49m\u001b[38;5;241;43m=\u001b[39;49m\u001b[43mbody\u001b[49m\u001b[43m,\u001b[49m\n\u001b[1;32m    722\u001b[0m \u001b[43m    \u001b[49m\u001b[43mheaders\u001b[49m\u001b[38;5;241;43m=\u001b[39;49m\u001b[43mheaders\u001b[49m\u001b[43m,\u001b[49m\n\u001b[1;32m    723\u001b[0m \u001b[43m    \u001b[49m\u001b[43mchunked\u001b[49m\u001b[38;5;241;43m=\u001b[39;49m\u001b[43mchunked\u001b[49m\u001b[43m,\u001b[49m\n\u001b[1;32m    724\u001b[0m \u001b[43m\u001b[49m\u001b[43m)\u001b[49m\n\u001b[1;32m    726\u001b[0m \u001b[38;5;66;03m# If we're going to release the connection in ``finally:``, then\u001b[39;00m\n\u001b[1;32m    727\u001b[0m \u001b[38;5;66;03m# the response doesn't need to know about the connection. Otherwise\u001b[39;00m\n\u001b[1;32m    728\u001b[0m \u001b[38;5;66;03m# it will also try to release it and we'll have a double-release\u001b[39;00m\n\u001b[1;32m    729\u001b[0m \u001b[38;5;66;03m# mess.\u001b[39;00m\n",
      "File \u001b[0;32m/usr/lib/python3/dist-packages/urllib3/connectionpool.py:417\u001b[0m, in \u001b[0;36mHTTPConnectionPool._make_request\u001b[0;34m(self, conn, method, url, timeout, chunked, **httplib_request_kw)\u001b[0m\n\u001b[1;32m    416\u001b[0m     \u001b[38;5;28;01melse\u001b[39;00m:\n\u001b[0;32m--> 417\u001b[0m         \u001b[43mconn\u001b[49m\u001b[38;5;241;43m.\u001b[39;49m\u001b[43mrequest\u001b[49m\u001b[43m(\u001b[49m\u001b[43mmethod\u001b[49m\u001b[43m,\u001b[49m\u001b[43m \u001b[49m\u001b[43murl\u001b[49m\u001b[43m,\u001b[49m\u001b[43m \u001b[49m\u001b[38;5;241;43m*\u001b[39;49m\u001b[38;5;241;43m*\u001b[39;49m\u001b[43mhttplib_request_kw\u001b[49m\u001b[43m)\u001b[49m\n\u001b[1;32m    419\u001b[0m \u001b[38;5;66;03m# We are swallowing BrokenPipeError (errno.EPIPE) since the server is\u001b[39;00m\n\u001b[1;32m    420\u001b[0m \u001b[38;5;66;03m# legitimately able to close the connection after sending a valid response.\u001b[39;00m\n\u001b[1;32m    421\u001b[0m \u001b[38;5;66;03m# With this behaviour, the received response is still readable.\u001b[39;00m\n",
      "File \u001b[0;32m/usr/lib/python3/dist-packages/urllib3/connection.py:244\u001b[0m, in \u001b[0;36mHTTPConnection.request\u001b[0;34m(self, method, url, body, headers)\u001b[0m\n\u001b[1;32m    243\u001b[0m     headers[\u001b[38;5;124m\"\u001b[39m\u001b[38;5;124mUser-Agent\u001b[39m\u001b[38;5;124m\"\u001b[39m] \u001b[38;5;241m=\u001b[39m _get_default_user_agent()\n\u001b[0;32m--> 244\u001b[0m \u001b[38;5;28;43msuper\u001b[39;49m\u001b[43m(\u001b[49m\u001b[43mHTTPConnection\u001b[49m\u001b[43m,\u001b[49m\u001b[43m \u001b[49m\u001b[38;5;28;43mself\u001b[39;49m\u001b[43m)\u001b[49m\u001b[38;5;241;43m.\u001b[39;49m\u001b[43mrequest\u001b[49m\u001b[43m(\u001b[49m\u001b[43mmethod\u001b[49m\u001b[43m,\u001b[49m\u001b[43m \u001b[49m\u001b[43murl\u001b[49m\u001b[43m,\u001b[49m\u001b[43m \u001b[49m\u001b[43mbody\u001b[49m\u001b[38;5;241;43m=\u001b[39;49m\u001b[43mbody\u001b[49m\u001b[43m,\u001b[49m\u001b[43m \u001b[49m\u001b[43mheaders\u001b[49m\u001b[38;5;241;43m=\u001b[39;49m\u001b[43mheaders\u001b[49m\u001b[43m)\u001b[49m\n",
      "File \u001b[0;32m/usr/lib/python3.11/http/client.py:1286\u001b[0m, in \u001b[0;36mHTTPConnection.request\u001b[0;34m(self, method, url, body, headers, encode_chunked)\u001b[0m\n\u001b[1;32m   1285\u001b[0m \u001b[38;5;250m\u001b[39m\u001b[38;5;124;03m\"\"\"Send a complete request to the server.\"\"\"\u001b[39;00m\n\u001b[0;32m-> 1286\u001b[0m \u001b[38;5;28;43mself\u001b[39;49m\u001b[38;5;241;43m.\u001b[39;49m\u001b[43m_send_request\u001b[49m\u001b[43m(\u001b[49m\u001b[43mmethod\u001b[49m\u001b[43m,\u001b[49m\u001b[43m \u001b[49m\u001b[43murl\u001b[49m\u001b[43m,\u001b[49m\u001b[43m \u001b[49m\u001b[43mbody\u001b[49m\u001b[43m,\u001b[49m\u001b[43m \u001b[49m\u001b[43mheaders\u001b[49m\u001b[43m,\u001b[49m\u001b[43m \u001b[49m\u001b[43mencode_chunked\u001b[49m\u001b[43m)\u001b[49m\n",
      "File \u001b[0;32m/usr/lib/python3.11/http/client.py:1332\u001b[0m, in \u001b[0;36mHTTPConnection._send_request\u001b[0;34m(self, method, url, body, headers, encode_chunked)\u001b[0m\n\u001b[1;32m   1331\u001b[0m     body \u001b[38;5;241m=\u001b[39m _encode(body, \u001b[38;5;124m'\u001b[39m\u001b[38;5;124mbody\u001b[39m\u001b[38;5;124m'\u001b[39m)\n\u001b[0;32m-> 1332\u001b[0m \u001b[38;5;28;43mself\u001b[39;49m\u001b[38;5;241;43m.\u001b[39;49m\u001b[43mendheaders\u001b[49m\u001b[43m(\u001b[49m\u001b[43mbody\u001b[49m\u001b[43m,\u001b[49m\u001b[43m \u001b[49m\u001b[43mencode_chunked\u001b[49m\u001b[38;5;241;43m=\u001b[39;49m\u001b[43mencode_chunked\u001b[49m\u001b[43m)\u001b[49m\n",
      "File \u001b[0;32m/usr/lib/python3.11/http/client.py:1281\u001b[0m, in \u001b[0;36mHTTPConnection.endheaders\u001b[0;34m(self, message_body, encode_chunked)\u001b[0m\n\u001b[1;32m   1280\u001b[0m     \u001b[38;5;28;01mraise\u001b[39;00m CannotSendHeader()\n\u001b[0;32m-> 1281\u001b[0m \u001b[38;5;28;43mself\u001b[39;49m\u001b[38;5;241;43m.\u001b[39;49m\u001b[43m_send_output\u001b[49m\u001b[43m(\u001b[49m\u001b[43mmessage_body\u001b[49m\u001b[43m,\u001b[49m\u001b[43m \u001b[49m\u001b[43mencode_chunked\u001b[49m\u001b[38;5;241;43m=\u001b[39;49m\u001b[43mencode_chunked\u001b[49m\u001b[43m)\u001b[49m\n",
      "File \u001b[0;32m/usr/lib/python3.11/http/client.py:1041\u001b[0m, in \u001b[0;36mHTTPConnection._send_output\u001b[0;34m(self, message_body, encode_chunked)\u001b[0m\n\u001b[1;32m   1040\u001b[0m \u001b[38;5;28;01mdel\u001b[39;00m \u001b[38;5;28mself\u001b[39m\u001b[38;5;241m.\u001b[39m_buffer[:]\n\u001b[0;32m-> 1041\u001b[0m \u001b[38;5;28;43mself\u001b[39;49m\u001b[38;5;241;43m.\u001b[39;49m\u001b[43msend\u001b[49m\u001b[43m(\u001b[49m\u001b[43mmsg\u001b[49m\u001b[43m)\u001b[49m\n\u001b[1;32m   1043\u001b[0m \u001b[38;5;28;01mif\u001b[39;00m message_body \u001b[38;5;129;01mis\u001b[39;00m \u001b[38;5;129;01mnot\u001b[39;00m \u001b[38;5;28;01mNone\u001b[39;00m:\n\u001b[1;32m   1044\u001b[0m \n\u001b[1;32m   1045\u001b[0m     \u001b[38;5;66;03m# create a consistent interface to message_body\u001b[39;00m\n",
      "File \u001b[0;32m/usr/lib/python3.11/http/client.py:979\u001b[0m, in \u001b[0;36mHTTPConnection.send\u001b[0;34m(self, data)\u001b[0m\n\u001b[1;32m    978\u001b[0m \u001b[38;5;28;01mif\u001b[39;00m \u001b[38;5;28mself\u001b[39m\u001b[38;5;241m.\u001b[39mauto_open:\n\u001b[0;32m--> 979\u001b[0m     \u001b[38;5;28;43mself\u001b[39;49m\u001b[38;5;241;43m.\u001b[39;49m\u001b[43mconnect\u001b[49m\u001b[43m(\u001b[49m\u001b[43m)\u001b[49m\n\u001b[1;32m    980\u001b[0m \u001b[38;5;28;01melse\u001b[39;00m:\n",
      "File \u001b[0;32m/usr/lib/python3/dist-packages/urllib3/connection.py:205\u001b[0m, in \u001b[0;36mHTTPConnection.connect\u001b[0;34m(self)\u001b[0m\n\u001b[1;32m    204\u001b[0m \u001b[38;5;28;01mdef\u001b[39;00m \u001b[38;5;21mconnect\u001b[39m(\u001b[38;5;28mself\u001b[39m):\n\u001b[0;32m--> 205\u001b[0m     conn \u001b[38;5;241m=\u001b[39m \u001b[38;5;28;43mself\u001b[39;49m\u001b[38;5;241;43m.\u001b[39;49m\u001b[43m_new_conn\u001b[49m\u001b[43m(\u001b[49m\u001b[43m)\u001b[49m\n\u001b[1;32m    206\u001b[0m     \u001b[38;5;28mself\u001b[39m\u001b[38;5;241m.\u001b[39m_prepare_conn(conn)\n",
      "File \u001b[0;32m/usr/lib/python3/dist-packages/urllib3/connection.py:186\u001b[0m, in \u001b[0;36mHTTPConnection._new_conn\u001b[0;34m(self)\u001b[0m\n\u001b[1;32m    185\u001b[0m \u001b[38;5;28;01mexcept\u001b[39;00m SocketError \u001b[38;5;28;01mas\u001b[39;00m e:\n\u001b[0;32m--> 186\u001b[0m     \u001b[38;5;28;01mraise\u001b[39;00m NewConnectionError(\n\u001b[1;32m    187\u001b[0m         \u001b[38;5;28mself\u001b[39m, \u001b[38;5;124m\"\u001b[39m\u001b[38;5;124mFailed to establish a new connection: \u001b[39m\u001b[38;5;132;01m%s\u001b[39;00m\u001b[38;5;124m\"\u001b[39m \u001b[38;5;241m%\u001b[39m e\n\u001b[1;32m    188\u001b[0m     )\n\u001b[1;32m    190\u001b[0m \u001b[38;5;28;01mreturn\u001b[39;00m conn\n",
      "\u001b[0;31mNewConnectionError\u001b[0m: <urllib3.connection.HTTPConnection object at 0x7fc5b6241150>: Failed to establish a new connection: [Errno 111] Connection refused",
      "\nDuring handling of the above exception, another exception occurred:\n",
      "\u001b[0;31mMaxRetryError\u001b[0m                             Traceback (most recent call last)",
      "File \u001b[0;32m/usr/lib/python3/dist-packages/requests/adapters.py:486\u001b[0m, in \u001b[0;36mHTTPAdapter.send\u001b[0;34m(self, request, stream, timeout, verify, cert, proxies)\u001b[0m\n\u001b[1;32m    485\u001b[0m \u001b[38;5;28;01mtry\u001b[39;00m:\n\u001b[0;32m--> 486\u001b[0m     resp \u001b[38;5;241m=\u001b[39m \u001b[43mconn\u001b[49m\u001b[38;5;241;43m.\u001b[39;49m\u001b[43murlopen\u001b[49m\u001b[43m(\u001b[49m\n\u001b[1;32m    487\u001b[0m \u001b[43m        \u001b[49m\u001b[43mmethod\u001b[49m\u001b[38;5;241;43m=\u001b[39;49m\u001b[43mrequest\u001b[49m\u001b[38;5;241;43m.\u001b[39;49m\u001b[43mmethod\u001b[49m\u001b[43m,\u001b[49m\n\u001b[1;32m    488\u001b[0m \u001b[43m        \u001b[49m\u001b[43murl\u001b[49m\u001b[38;5;241;43m=\u001b[39;49m\u001b[43murl\u001b[49m\u001b[43m,\u001b[49m\n\u001b[1;32m    489\u001b[0m \u001b[43m        \u001b[49m\u001b[43mbody\u001b[49m\u001b[38;5;241;43m=\u001b[39;49m\u001b[43mrequest\u001b[49m\u001b[38;5;241;43m.\u001b[39;49m\u001b[43mbody\u001b[49m\u001b[43m,\u001b[49m\n\u001b[1;32m    490\u001b[0m \u001b[43m        \u001b[49m\u001b[43mheaders\u001b[49m\u001b[38;5;241;43m=\u001b[39;49m\u001b[43mrequest\u001b[49m\u001b[38;5;241;43m.\u001b[39;49m\u001b[43mheaders\u001b[49m\u001b[43m,\u001b[49m\n\u001b[1;32m    491\u001b[0m \u001b[43m        \u001b[49m\u001b[43mredirect\u001b[49m\u001b[38;5;241;43m=\u001b[39;49m\u001b[38;5;28;43;01mFalse\u001b[39;49;00m\u001b[43m,\u001b[49m\n\u001b[1;32m    492\u001b[0m \u001b[43m        \u001b[49m\u001b[43massert_same_host\u001b[49m\u001b[38;5;241;43m=\u001b[39;49m\u001b[38;5;28;43;01mFalse\u001b[39;49;00m\u001b[43m,\u001b[49m\n\u001b[1;32m    493\u001b[0m \u001b[43m        \u001b[49m\u001b[43mpreload_content\u001b[49m\u001b[38;5;241;43m=\u001b[39;49m\u001b[38;5;28;43;01mFalse\u001b[39;49;00m\u001b[43m,\u001b[49m\n\u001b[1;32m    494\u001b[0m \u001b[43m        \u001b[49m\u001b[43mdecode_content\u001b[49m\u001b[38;5;241;43m=\u001b[39;49m\u001b[38;5;28;43;01mFalse\u001b[39;49;00m\u001b[43m,\u001b[49m\n\u001b[1;32m    495\u001b[0m \u001b[43m        \u001b[49m\u001b[43mretries\u001b[49m\u001b[38;5;241;43m=\u001b[39;49m\u001b[38;5;28;43mself\u001b[39;49m\u001b[38;5;241;43m.\u001b[39;49m\u001b[43mmax_retries\u001b[49m\u001b[43m,\u001b[49m\n\u001b[1;32m    496\u001b[0m \u001b[43m        \u001b[49m\u001b[43mtimeout\u001b[49m\u001b[38;5;241;43m=\u001b[39;49m\u001b[43mtimeout\u001b[49m\u001b[43m,\u001b[49m\n\u001b[1;32m    497\u001b[0m \u001b[43m        \u001b[49m\u001b[43mchunked\u001b[49m\u001b[38;5;241;43m=\u001b[39;49m\u001b[43mchunked\u001b[49m\u001b[43m,\u001b[49m\n\u001b[1;32m    498\u001b[0m \u001b[43m    \u001b[49m\u001b[43m)\u001b[49m\n\u001b[1;32m    500\u001b[0m \u001b[38;5;28;01mexcept\u001b[39;00m (ProtocolError, \u001b[38;5;167;01mOSError\u001b[39;00m) \u001b[38;5;28;01mas\u001b[39;00m err:\n",
      "File \u001b[0;32m/usr/lib/python3/dist-packages/urllib3/connectionpool.py:800\u001b[0m, in \u001b[0;36mHTTPConnectionPool.urlopen\u001b[0;34m(self, method, url, body, headers, retries, redirect, assert_same_host, timeout, pool_timeout, release_conn, chunked, body_pos, **response_kw)\u001b[0m\n\u001b[1;32m    798\u001b[0m     e \u001b[38;5;241m=\u001b[39m ProtocolError(\u001b[38;5;124m\"\u001b[39m\u001b[38;5;124mConnection aborted.\u001b[39m\u001b[38;5;124m\"\u001b[39m, e)\n\u001b[0;32m--> 800\u001b[0m retries \u001b[38;5;241m=\u001b[39m \u001b[43mretries\u001b[49m\u001b[38;5;241;43m.\u001b[39;49m\u001b[43mincrement\u001b[49m\u001b[43m(\u001b[49m\n\u001b[1;32m    801\u001b[0m \u001b[43m    \u001b[49m\u001b[43mmethod\u001b[49m\u001b[43m,\u001b[49m\u001b[43m \u001b[49m\u001b[43murl\u001b[49m\u001b[43m,\u001b[49m\u001b[43m \u001b[49m\u001b[43merror\u001b[49m\u001b[38;5;241;43m=\u001b[39;49m\u001b[43me\u001b[49m\u001b[43m,\u001b[49m\u001b[43m \u001b[49m\u001b[43m_pool\u001b[49m\u001b[38;5;241;43m=\u001b[39;49m\u001b[38;5;28;43mself\u001b[39;49m\u001b[43m,\u001b[49m\u001b[43m \u001b[49m\u001b[43m_stacktrace\u001b[49m\u001b[38;5;241;43m=\u001b[39;49m\u001b[43msys\u001b[49m\u001b[38;5;241;43m.\u001b[39;49m\u001b[43mexc_info\u001b[49m\u001b[43m(\u001b[49m\u001b[43m)\u001b[49m\u001b[43m[\u001b[49m\u001b[38;5;241;43m2\u001b[39;49m\u001b[43m]\u001b[49m\n\u001b[1;32m    802\u001b[0m \u001b[43m\u001b[49m\u001b[43m)\u001b[49m\n\u001b[1;32m    803\u001b[0m retries\u001b[38;5;241m.\u001b[39msleep()\n",
      "File \u001b[0;32m/usr/lib/python3/dist-packages/urllib3/util/retry.py:592\u001b[0m, in \u001b[0;36mRetry.increment\u001b[0;34m(self, method, url, response, error, _pool, _stacktrace)\u001b[0m\n\u001b[1;32m    591\u001b[0m \u001b[38;5;28;01mif\u001b[39;00m new_retry\u001b[38;5;241m.\u001b[39mis_exhausted():\n\u001b[0;32m--> 592\u001b[0m     \u001b[38;5;28;01mraise\u001b[39;00m MaxRetryError(_pool, url, error \u001b[38;5;129;01mor\u001b[39;00m ResponseError(cause))\n\u001b[1;32m    594\u001b[0m log\u001b[38;5;241m.\u001b[39mdebug(\u001b[38;5;124m\"\u001b[39m\u001b[38;5;124mIncremented Retry for (url=\u001b[39m\u001b[38;5;124m'\u001b[39m\u001b[38;5;132;01m%s\u001b[39;00m\u001b[38;5;124m'\u001b[39m\u001b[38;5;124m): \u001b[39m\u001b[38;5;132;01m%r\u001b[39;00m\u001b[38;5;124m\"\u001b[39m, url, new_retry)\n",
      "\u001b[0;31mMaxRetryError\u001b[0m: HTTPConnectionPool(host='localhost', port=8000): Max retries exceeded with url: /api/v1/tenants/default_tenant (Caused by NewConnectionError('<urllib3.connection.HTTPConnection object at 0x7fc5b6241150>: Failed to establish a new connection: [Errno 111] Connection refused'))",
      "\nDuring handling of the above exception, another exception occurred:\n",
      "\u001b[0;31mConnectionError\u001b[0m                           Traceback (most recent call last)",
      "File \u001b[0;32m~/.local/lib/python3.11/site-packages/chromadb/api/client.py:438\u001b[0m, in \u001b[0;36mClient._validate_tenant_database\u001b[0;34m(self, tenant, database)\u001b[0m\n\u001b[1;32m    437\u001b[0m \u001b[38;5;28;01mtry\u001b[39;00m:\n\u001b[0;32m--> 438\u001b[0m     \u001b[38;5;28;43mself\u001b[39;49m\u001b[38;5;241;43m.\u001b[39;49m\u001b[43m_admin_client\u001b[49m\u001b[38;5;241;43m.\u001b[39;49m\u001b[43mget_tenant\u001b[49m\u001b[43m(\u001b[49m\u001b[43mname\u001b[49m\u001b[38;5;241;43m=\u001b[39;49m\u001b[43mtenant\u001b[49m\u001b[43m)\u001b[49m\n\u001b[1;32m    439\u001b[0m \u001b[38;5;28;01mexcept\u001b[39;00m requests\u001b[38;5;241m.\u001b[39mexceptions\u001b[38;5;241m.\u001b[39mConnectionError:\n",
      "File \u001b[0;32m~/.local/lib/python3.11/site-packages/chromadb/api/client.py:486\u001b[0m, in \u001b[0;36mAdminClient.get_tenant\u001b[0;34m(self, name)\u001b[0m\n\u001b[1;32m    484\u001b[0m \u001b[38;5;129m@override\u001b[39m\n\u001b[1;32m    485\u001b[0m \u001b[38;5;28;01mdef\u001b[39;00m \u001b[38;5;21mget_tenant\u001b[39m(\u001b[38;5;28mself\u001b[39m, name: \u001b[38;5;28mstr\u001b[39m) \u001b[38;5;241m-\u001b[39m\u001b[38;5;241m>\u001b[39m Tenant:\n\u001b[0;32m--> 486\u001b[0m     \u001b[38;5;28;01mreturn\u001b[39;00m \u001b[38;5;28;43mself\u001b[39;49m\u001b[38;5;241;43m.\u001b[39;49m\u001b[43m_server\u001b[49m\u001b[38;5;241;43m.\u001b[39;49m\u001b[43mget_tenant\u001b[49m\u001b[43m(\u001b[49m\u001b[43mname\u001b[49m\u001b[38;5;241;43m=\u001b[39;49m\u001b[43mname\u001b[49m\u001b[43m)\u001b[49m\n",
      "File \u001b[0;32m~/.local/lib/python3.11/site-packages/chromadb/telemetry/opentelemetry/__init__.py:143\u001b[0m, in \u001b[0;36mtrace_method.<locals>.decorator.<locals>.wrapper\u001b[0;34m(*args, **kwargs)\u001b[0m\n\u001b[1;32m    142\u001b[0m \u001b[38;5;28;01mif\u001b[39;00m trace_granularity \u001b[38;5;241m<\u001b[39m granularity:\n\u001b[0;32m--> 143\u001b[0m     \u001b[38;5;28;01mreturn\u001b[39;00m \u001b[43mf\u001b[49m\u001b[43m(\u001b[49m\u001b[38;5;241;43m*\u001b[39;49m\u001b[43margs\u001b[49m\u001b[43m,\u001b[49m\u001b[43m \u001b[49m\u001b[38;5;241;43m*\u001b[39;49m\u001b[38;5;241;43m*\u001b[39;49m\u001b[43mkwargs\u001b[49m\u001b[43m)\u001b[49m\n\u001b[1;32m    144\u001b[0m \u001b[38;5;28;01mif\u001b[39;00m \u001b[38;5;129;01mnot\u001b[39;00m tracer:\n",
      "File \u001b[0;32m~/.local/lib/python3.11/site-packages/chromadb/api/fastapi.py:182\u001b[0m, in \u001b[0;36mFastAPI.get_tenant\u001b[0;34m(self, name)\u001b[0m\n\u001b[1;32m    179\u001b[0m \u001b[38;5;129m@trace_method\u001b[39m(\u001b[38;5;124m\"\u001b[39m\u001b[38;5;124mFastAPI.get_tenant\u001b[39m\u001b[38;5;124m\"\u001b[39m, OpenTelemetryGranularity\u001b[38;5;241m.\u001b[39mOPERATION)\n\u001b[1;32m    180\u001b[0m \u001b[38;5;129m@override\u001b[39m\n\u001b[1;32m    181\u001b[0m \u001b[38;5;28;01mdef\u001b[39;00m \u001b[38;5;21mget_tenant\u001b[39m(\u001b[38;5;28mself\u001b[39m, name: \u001b[38;5;28mstr\u001b[39m) \u001b[38;5;241m-\u001b[39m\u001b[38;5;241m>\u001b[39m Tenant:\n\u001b[0;32m--> 182\u001b[0m     resp \u001b[38;5;241m=\u001b[39m \u001b[38;5;28;43mself\u001b[39;49m\u001b[38;5;241;43m.\u001b[39;49m\u001b[43m_session\u001b[49m\u001b[38;5;241;43m.\u001b[39;49m\u001b[43mget\u001b[49m\u001b[43m(\u001b[49m\n\u001b[1;32m    183\u001b[0m \u001b[43m        \u001b[49m\u001b[38;5;28;43mself\u001b[39;49m\u001b[38;5;241;43m.\u001b[39;49m\u001b[43m_api_url\u001b[49m\u001b[43m \u001b[49m\u001b[38;5;241;43m+\u001b[39;49m\u001b[43m \u001b[49m\u001b[38;5;124;43m\"\u001b[39;49m\u001b[38;5;124;43m/tenants/\u001b[39;49m\u001b[38;5;124;43m\"\u001b[39;49m\u001b[43m \u001b[49m\u001b[38;5;241;43m+\u001b[39;49m\u001b[43m \u001b[49m\u001b[43mname\u001b[49m\u001b[43m,\u001b[49m\n\u001b[1;32m    184\u001b[0m \u001b[43m    \u001b[49m\u001b[43m)\u001b[49m\n\u001b[1;32m    185\u001b[0m     raise_chroma_error(resp)\n",
      "File \u001b[0;32m/usr/lib/python3/dist-packages/requests/sessions.py:602\u001b[0m, in \u001b[0;36mSession.get\u001b[0;34m(self, url, **kwargs)\u001b[0m\n\u001b[1;32m    601\u001b[0m kwargs\u001b[38;5;241m.\u001b[39msetdefault(\u001b[38;5;124m\"\u001b[39m\u001b[38;5;124mallow_redirects\u001b[39m\u001b[38;5;124m\"\u001b[39m, \u001b[38;5;28;01mTrue\u001b[39;00m)\n\u001b[0;32m--> 602\u001b[0m \u001b[38;5;28;01mreturn\u001b[39;00m \u001b[38;5;28;43mself\u001b[39;49m\u001b[38;5;241;43m.\u001b[39;49m\u001b[43mrequest\u001b[49m\u001b[43m(\u001b[49m\u001b[38;5;124;43m\"\u001b[39;49m\u001b[38;5;124;43mGET\u001b[39;49m\u001b[38;5;124;43m\"\u001b[39;49m\u001b[43m,\u001b[49m\u001b[43m \u001b[49m\u001b[43murl\u001b[49m\u001b[43m,\u001b[49m\u001b[43m \u001b[49m\u001b[38;5;241;43m*\u001b[39;49m\u001b[38;5;241;43m*\u001b[39;49m\u001b[43mkwargs\u001b[49m\u001b[43m)\u001b[49m\n",
      "File \u001b[0;32m/usr/lib/python3/dist-packages/requests/sessions.py:589\u001b[0m, in \u001b[0;36mSession.request\u001b[0;34m(self, method, url, params, data, headers, cookies, files, auth, timeout, allow_redirects, proxies, hooks, stream, verify, cert, json)\u001b[0m\n\u001b[1;32m    588\u001b[0m send_kwargs\u001b[38;5;241m.\u001b[39mupdate(settings)\n\u001b[0;32m--> 589\u001b[0m resp \u001b[38;5;241m=\u001b[39m \u001b[38;5;28;43mself\u001b[39;49m\u001b[38;5;241;43m.\u001b[39;49m\u001b[43msend\u001b[49m\u001b[43m(\u001b[49m\u001b[43mprep\u001b[49m\u001b[43m,\u001b[49m\u001b[43m \u001b[49m\u001b[38;5;241;43m*\u001b[39;49m\u001b[38;5;241;43m*\u001b[39;49m\u001b[43msend_kwargs\u001b[49m\u001b[43m)\u001b[49m\n\u001b[1;32m    591\u001b[0m \u001b[38;5;28;01mreturn\u001b[39;00m resp\n",
      "File \u001b[0;32m/usr/lib/python3/dist-packages/requests/sessions.py:703\u001b[0m, in \u001b[0;36mSession.send\u001b[0;34m(self, request, **kwargs)\u001b[0m\n\u001b[1;32m    702\u001b[0m \u001b[38;5;66;03m# Send the request\u001b[39;00m\n\u001b[0;32m--> 703\u001b[0m r \u001b[38;5;241m=\u001b[39m \u001b[43madapter\u001b[49m\u001b[38;5;241;43m.\u001b[39;49m\u001b[43msend\u001b[49m\u001b[43m(\u001b[49m\u001b[43mrequest\u001b[49m\u001b[43m,\u001b[49m\u001b[43m \u001b[49m\u001b[38;5;241;43m*\u001b[39;49m\u001b[38;5;241;43m*\u001b[39;49m\u001b[43mkwargs\u001b[49m\u001b[43m)\u001b[49m\n\u001b[1;32m    705\u001b[0m \u001b[38;5;66;03m# Total elapsed time of the request (approximately)\u001b[39;00m\n",
      "File \u001b[0;32m/usr/lib/python3/dist-packages/requests/adapters.py:519\u001b[0m, in \u001b[0;36mHTTPAdapter.send\u001b[0;34m(self, request, stream, timeout, verify, cert, proxies)\u001b[0m\n\u001b[1;32m    517\u001b[0m         \u001b[38;5;28;01mraise\u001b[39;00m SSLError(e, request\u001b[38;5;241m=\u001b[39mrequest)\n\u001b[0;32m--> 519\u001b[0m     \u001b[38;5;28;01mraise\u001b[39;00m \u001b[38;5;167;01mConnectionError\u001b[39;00m(e, request\u001b[38;5;241m=\u001b[39mrequest)\n\u001b[1;32m    521\u001b[0m \u001b[38;5;28;01mexcept\u001b[39;00m ClosedPoolError \u001b[38;5;28;01mas\u001b[39;00m e:\n",
      "\u001b[0;31mConnectionError\u001b[0m: HTTPConnectionPool(host='localhost', port=8000): Max retries exceeded with url: /api/v1/tenants/default_tenant (Caused by NewConnectionError('<urllib3.connection.HTTPConnection object at 0x7fc5b6241150>: Failed to establish a new connection: [Errno 111] Connection refused'))",
      "\nDuring handling of the above exception, another exception occurred:\n",
      "\u001b[0;31mValueError\u001b[0m                                Traceback (most recent call last)",
      "Cell \u001b[0;32mIn[48], line 3\u001b[0m\n\u001b[1;32m      1\u001b[0m \u001b[38;5;66;03m# Configure the ChromaDB client with persistence\u001b[39;00m\n\u001b[1;32m      2\u001b[0m persist_directory \u001b[38;5;241m=\u001b[39m \u001b[38;5;124m\"\u001b[39m\u001b[38;5;124m/home/idriss/Desktop/chroma_db\u001b[39m\u001b[38;5;124m\"\u001b[39m\n\u001b[0;32m----> 3\u001b[0m client \u001b[38;5;241m=\u001b[39m \u001b[43mchromadb\u001b[49m\u001b[38;5;241;43m.\u001b[39;49m\u001b[43mHttpClient\u001b[49m\u001b[43m(\u001b[49m\u001b[43m)\u001b[49m\n",
      "File \u001b[0;32m~/.local/lib/python3.11/site-packages/chromadb/__init__.py:197\u001b[0m, in \u001b[0;36mHttpClient\u001b[0;34m(host, port, ssl, headers, settings, tenant, database)\u001b[0m\n\u001b[1;32m    194\u001b[0m settings\u001b[38;5;241m.\u001b[39mchroma_server_ssl_enabled \u001b[38;5;241m=\u001b[39m ssl\n\u001b[1;32m    195\u001b[0m settings\u001b[38;5;241m.\u001b[39mchroma_server_headers \u001b[38;5;241m=\u001b[39m headers\n\u001b[0;32m--> 197\u001b[0m \u001b[38;5;28;01mreturn\u001b[39;00m \u001b[43mClientCreator\u001b[49m\u001b[43m(\u001b[49m\u001b[43mtenant\u001b[49m\u001b[38;5;241;43m=\u001b[39;49m\u001b[43mtenant\u001b[49m\u001b[43m,\u001b[49m\u001b[43m \u001b[49m\u001b[43mdatabase\u001b[49m\u001b[38;5;241;43m=\u001b[39;49m\u001b[43mdatabase\u001b[49m\u001b[43m,\u001b[49m\u001b[43m \u001b[49m\u001b[43msettings\u001b[49m\u001b[38;5;241;43m=\u001b[39;49m\u001b[43msettings\u001b[49m\u001b[43m)\u001b[49m\n",
      "File \u001b[0;32m~/.local/lib/python3.11/site-packages/chromadb/api/client.py:144\u001b[0m, in \u001b[0;36mClient.__init__\u001b[0;34m(self, tenant, database, settings)\u001b[0m\n\u001b[1;32m    142\u001b[0m \u001b[38;5;66;03m# Create an admin client for verifying that databases and tenants exist\u001b[39;00m\n\u001b[1;32m    143\u001b[0m \u001b[38;5;28mself\u001b[39m\u001b[38;5;241m.\u001b[39m_admin_client \u001b[38;5;241m=\u001b[39m AdminClient\u001b[38;5;241m.\u001b[39mfrom_system(\u001b[38;5;28mself\u001b[39m\u001b[38;5;241m.\u001b[39m_system)\n\u001b[0;32m--> 144\u001b[0m \u001b[38;5;28;43mself\u001b[39;49m\u001b[38;5;241;43m.\u001b[39;49m\u001b[43m_validate_tenant_database\u001b[49m\u001b[43m(\u001b[49m\u001b[43mtenant\u001b[49m\u001b[38;5;241;43m=\u001b[39;49m\u001b[43mtenant\u001b[49m\u001b[43m,\u001b[49m\u001b[43m \u001b[49m\u001b[43mdatabase\u001b[49m\u001b[38;5;241;43m=\u001b[39;49m\u001b[43mdatabase\u001b[49m\u001b[43m)\u001b[49m\n\u001b[1;32m    146\u001b[0m \u001b[38;5;66;03m# Get the root system component we want to interact with\u001b[39;00m\n\u001b[1;32m    147\u001b[0m \u001b[38;5;28mself\u001b[39m\u001b[38;5;241m.\u001b[39m_server \u001b[38;5;241m=\u001b[39m \u001b[38;5;28mself\u001b[39m\u001b[38;5;241m.\u001b[39m_system\u001b[38;5;241m.\u001b[39minstance(ServerAPI)\n",
      "File \u001b[0;32m~/.local/lib/python3.11/site-packages/chromadb/api/client.py:440\u001b[0m, in \u001b[0;36mClient._validate_tenant_database\u001b[0;34m(self, tenant, database)\u001b[0m\n\u001b[1;32m    438\u001b[0m     \u001b[38;5;28mself\u001b[39m\u001b[38;5;241m.\u001b[39m_admin_client\u001b[38;5;241m.\u001b[39mget_tenant(name\u001b[38;5;241m=\u001b[39mtenant)\n\u001b[1;32m    439\u001b[0m \u001b[38;5;28;01mexcept\u001b[39;00m requests\u001b[38;5;241m.\u001b[39mexceptions\u001b[38;5;241m.\u001b[39mConnectionError:\n\u001b[0;32m--> 440\u001b[0m     \u001b[38;5;28;01mraise\u001b[39;00m \u001b[38;5;167;01mValueError\u001b[39;00m(\n\u001b[1;32m    441\u001b[0m         \u001b[38;5;124m\"\u001b[39m\u001b[38;5;124mCould not connect to a Chroma server. Are you sure it is running?\u001b[39m\u001b[38;5;124m\"\u001b[39m\n\u001b[1;32m    442\u001b[0m     )\n\u001b[1;32m    443\u001b[0m \u001b[38;5;66;03m# Propagate ChromaErrors\u001b[39;00m\n\u001b[1;32m    444\u001b[0m \u001b[38;5;28;01mexcept\u001b[39;00m ChromaError \u001b[38;5;28;01mas\u001b[39;00m e:\n",
      "\u001b[0;31mValueError\u001b[0m: Could not connect to a Chroma server. Are you sure it is running?"
     ]
    }
   ],
   "source": [
    "# Configure the ChromaDB client with persistence\n",
    "persist_directory = \"/home/idriss/Desktop/chroma_db\"\n",
    "client = chromadb.HttpClient()"
   ]
  },
  {
   "cell_type": "code",
   "execution_count": null,
   "id": "6ae72bb1-7e7f-42e7-acfe-c89b3b4fdcea",
   "metadata": {},
   "outputs": [],
   "source": [
    "# Configure the ChromaDB client with persistence\n",
    "import chromadb.utils.embedding_functions as embedding_functions\n",
    "huggingface_ef = embedding_functions.SentenceTransformerEmbeddingFunction(model_name=\"sentence-transformers/multi-qa-mpnet-base-dot-v1\")\n",
    "client = chromadb.HttpClient(host='localhost', port=8000)\n",
    "collection = client.create_collection(name=\"text_embeddings\",embedding_function=huggingface_ef)"
   ]
  },
  {
   "cell_type": "code",
   "execution_count": null,
   "id": "5874ac19-783d-478d-825f-fcf0ad54feef",
   "metadata": {
    "editable": true,
    "slideshow": {
     "slide_type": ""
    },
    "tags": []
   },
   "outputs": [],
   "source": [
    "def process_and_store_embeddings(dataframe, column_names, collection):\n",
    "    ids = []\n",
    "    metadatas = []\n",
    "    documents = []\n",
    "\n",
    "    for idx, row in dataframe.iterrows():\n",
    "        doc_metadata = {}\n",
    "        for key, value in row.items():\n",
    "            if key not in column_names:\n",
    "                doc_metadata[key] = value  # Leave non-string fields as is\n",
    "        \n",
    "        for column in column_names:\n",
    "            sentence = row[column]\n",
    "            if sentence is not None and sentence != '':\n",
    "                ids.append(str(uuid.uuid1()))\n",
    "                metadatas.append(doc_metadata)\n",
    "                documents.append(sentence)\n",
    "    collection.add(\n",
    "        ids=ids,\n",
    "        #embeddings=embeddings,\n",
    "        metadatas=metadatas,\n",
    "        documents=documents\n",
    "    )\n",
    "\n",
    "# Assuming article, clubs, formation DataFrames are already preprocessed\n",
    "# Store embeddings, metadata, and documents from each DataFrame\n",
    "process_and_store_embeddings(article, [\"merged_content1\"], collection)\n",
    "process_and_store_embeddings(article, [\"merged_content2\"], collection)\n",
    "process_and_store_embeddings(clubs, [\"merged_content1\"], collection)\n",
    "process_and_store_embeddings(clubs, [\"merged_content2\"], collection)\n",
    "process_and_store_embeddings(dep, [\"merged_content1\"], collection)\n",
    "process_and_store_embeddings(dep, [\"merged_content2\"], collection)\n",
    "process_and_store_embeddings(dep, [\"merged_content3\"], collection)\n",
    "# process_and_store_embeddings(formation, [\"merged_content1\"], collection)\n",
    "process_and_store_embeddings(formation, [\"merged_content2\"], collection)\n",
    "process_and_store_embeddings(formation, [\"merged_content3\"], collection)\n",
    "process_and_store_embeddings(formation, [\"merged_content4\"], collection)\n",
    "process_and_store_embeddings(formation, [\"merged_content5\"], collection)\n",
    "process_and_store_embeddings(formation, [\"merged_content6\"], collection)\n",
    "process_and_store_embeddings(general_info, [\"info\"], collection)\n",
    "\n",
    "print(\"Embeddings, metadata, and documents stored in ChromaDB successfully.\")\n"
   ]
  },
  {
   "cell_type": "code",
   "execution_count": null,
   "id": "ed7ffee3-5832-4688-ac23-bd634d0e1e7c",
   "metadata": {},
   "outputs": [],
   "source": [
    "# Load the existing collection\n",
    "collection = client.get_collection(name=\"text_embeddings\")\n",
    "\n",
    "# Perform a query\n",
    "query = \"informatique\"\n",
    "results = collection.query(\n",
    "    query_texts=[query],\n",
    "    n_results=10\n",
    ")\n",
    "\n",
    "for result in results['documents']:\n",
    "    print(result)\n"
   ]
  }
 ],
 "metadata": {
  "kernelspec": {
   "display_name": "Python 3 (ipykernel)",
   "language": "python",
   "name": "python3"
  },
  "language_info": {
   "codemirror_mode": {
    "name": "ipython",
    "version": 3
   },
   "file_extension": ".py",
   "mimetype": "text/x-python",
   "name": "python",
   "nbconvert_exporter": "python",
   "pygments_lexer": "ipython3",
   "version": "3.11.6"
  }
 },
 "nbformat": 4,
 "nbformat_minor": 5
}
