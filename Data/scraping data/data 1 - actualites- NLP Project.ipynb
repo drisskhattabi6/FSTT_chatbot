{
 "cells": [
  {
   "cell_type": "markdown",
   "metadata": {},
   "source": [
    "## Data Scrpaing from news (actualites) page"
   ]
  },
  {
   "cell_type": "code",
   "execution_count": 1,
   "metadata": {},
   "outputs": [],
   "source": [
    "import requests\n",
    "from bs4 import BeautifulSoup\n",
    "import csv"
   ]
  },
  {
   "cell_type": "code",
   "execution_count": 9,
   "metadata": {},
   "outputs": [
    {
     "name": "stdout",
     "output_type": "stream",
     "text": [
      "1 -  CYBERSEC360° : PERSPECTIVES EN CYBERSÉCURITÉ AVANCÉE\n",
      "2 -  PRÉSENTATION CONCOURS D’INNOVATION TDC\n",
      "3 -  SÉMINAIRE : WATER RESOURCES MANAGEMENT FOR SUSTAINABLE DEVELOPMENT\n",
      "4 -  ORACLE MOROCCO R&D CENTER : PROGRAMME DE STAGES D’ÉTÉ (OPEN INTERNSHIP PROGRAM)\n",
      "5 -  APPEL À PROJET : «TERRITORY DEVELOPMENT CHALLENGE» (TDC)\n",
      "6 -  HUAWEI RAMADAN MASTERCLASS 2024\n",
      "7 -  TOURNOI DU RAMADAN 2024\n",
      "8 -  SÉMINAIRE : AMÉNAGEMENT ET MOBILITÉ URBAINE DURABLE\n",
      "9 -  AVIS AUX ÉTUDIANTS : DÉMARRAGE DU PROGRAMME DE TUTORAT 2023/2024 (SESSION DE PRINTEMPS)\n",
      "10 -  BOURSES DE MOBILITÉ À L’UNIVERSITÉ DE CADIZ (ESPAGNE)\n",
      "11 -  HORAIRES DES ENSEIGNEMENTS PENDANT LE MOIS DE RAMADAN\n",
      "12 -  UNESCO | PROGRAMME DE BOURSES  » LA GRANDE MURAILLE  » 2024-2025\n",
      "13 -  FORMATIONS AVANCÉES EN LIGNE DE L’ACADÉMIE DE L’OMPI, PREMIÈRE SESSION, 2024\n",
      "14 -  AVIS AUX ÉTUDIANTS : DISTRIBUTION DES CARTES SIM «PACK TALIB»\n",
      "15 -  CANDIDATURE AU PROGRAMME YOUTH FOR SUSTAINABILITY (Y4S)\n",
      "16 -  MASTERCLASS SOUS LE THÈME : «LINUX CONTAINERS 201 : ADVANCED CONCEPTS AND PATTERNS»\n",
      "17 -  THE 8th INTERNATIONAL SYMPOSIUM ON SEDIMENT MANAGEMENT\n",
      "18 -  AVIS AUX ÉTUDIANTS : INSCRIPTION AU TUTORAT  2023/2024 (SESSION DE PRINTEMPS)\n",
      "19 -  APPEL À CANDIDATURE : ANIMATEURS DE MODULES DE TUTORAT POUR DOCTORANTS\n",
      "20 -  TÜRKIYE SCHOLARSHIP PROGRAM\n"
     ]
    }
   ],
   "source": [
    "# page_nbr = 1\n",
    "no = 0\n",
    "articles_info = []\n",
    "\n",
    "for page_nbr in range(1, 3) :\n",
    "    url = f\"https://fstt.ac.ma/Portail2023/category/articles/actualites/page/{page_nbr}/\"\n",
    "\n",
    "    result = requests.get(url)\n",
    "\n",
    "    soup = BeautifulSoup(result.content, \"lxml\")\n",
    "\n",
    "    all_articles = soup.find_all(\"div\", {\"class\": \"elementor-post__text\"})\n",
    "\n",
    "    for i in range(10):\n",
    "        article_title = all_articles[i].find(\"a\").string.strip()\n",
    "        article_link = all_articles[i].find(\"a\").attrs[\"href\"]\n",
    "        article_date = all_articles[i].find(\"span\").string.strip()\n",
    "\n",
    "        result2 = requests.get(article_link)\n",
    "        soup2 = BeautifulSoup(result2.content, \"lxml\")\n",
    "        article_Content = soup2.find(class_=\"elementor-element elementor-element-faf7450 elementor-widget elementor-widget-theme-post-content\").text.strip()\n",
    "\n",
    "        no += 1\n",
    "\n",
    "        print(no, \"- \", article_title)\n",
    "        # print(i+1, \"- \", article_title, \" => \", article_link, \" | date : \", article_date, \" | article_description : \", article_Content)\n",
    "\n",
    "        articles_info.append({\n",
    "            \"No\": no,\n",
    "            \"post_title\": article_title,\n",
    "            \"publish_date\": article_date,\n",
    "            \"post_content\": article_Content,\n",
    "            \"post_link\": article_link\n",
    "        })"
   ]
  },
  {
   "cell_type": "code",
   "execution_count": 11,
   "metadata": {},
   "outputs": [
    {
     "name": "stdout",
     "output_type": "stream",
     "text": [
      "************************************************** \n",
      " file created \n",
      " **************************************************\n"
     ]
    }
   ],
   "source": [
    "columns = [\"No\", \"post_title\", \"publish_date\", \"post_content\", \"post_link\"]\n",
    "\n",
    "with open(\"fstt-articles.csv\", \"w\", encoding=\"utf-8-sig\", newline=\"\") as csv_file:\n",
    "    dict_writer = csv.DictWriter(csv_file, columns)\n",
    "    dict_writer.writeheader()\n",
    "    dict_writer.writerows(articles_info)\n",
    "\n",
    "    print(\"*\"*50, \"\\n file created \\n\", \"*\"*50)"
   ]
  }
 ],
 "metadata": {
  "kernelspec": {
   "display_name": "Python 3 (ipykernel)",
   "language": "python",
   "name": "python3"
  },
  "language_info": {
   "codemirror_mode": {
    "name": "ipython",
    "version": 3
   },
   "file_extension": ".py",
   "mimetype": "text/x-python",
   "name": "python",
   "nbconvert_exporter": "python",
   "pygments_lexer": "ipython3",
   "version": "3.11.8"
  }
 },
 "nbformat": 4,
 "nbformat_minor": 4
}
