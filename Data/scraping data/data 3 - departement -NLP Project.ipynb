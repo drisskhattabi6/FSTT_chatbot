{
 "cells": [
  {
   "cell_type": "markdown",
   "metadata": {},
   "source": [
    "## Data Scrpaing from departements page"
   ]
  },
  {
   "cell_type": "code",
   "execution_count": 2,
   "metadata": {},
   "outputs": [],
   "source": [
    "import requests\n",
    "from bs4 import BeautifulSoup\n",
    "import csv"
   ]
  },
  {
   "cell_type": "code",
   "execution_count": 4,
   "metadata": {},
   "outputs": [],
   "source": [
    "# page_nbr = 1\n",
    "no = 0\n",
    "departements_info = []\n",
    "url = \"https://fstt.ac.ma/Portail2023/les-departement/\"\n",
    "\n",
    "result = requests.get(url)\n",
    "\n",
    "soup = BeautifulSoup(result.content, \"lxml\")\n",
    "\n",
    "all_departements = soup.find(\"div\", {\"class\": \"elementor-element elementor-element-78ced8b elementor-widget elementor-widget-theme-post-content\"})\n",
    "\n",
    "all_departements = all_departements.find_all(class_=\"elementor-cta\")\n",
    "\n",
    "for departement in all_departements :\n",
    "    departement_name = departement.find(\"h3\").text.strip()\n",
    "    departement_info = departement.find(class_=\"elementor-cta__description elementor-cta__content-item elementor-content-item\").text.strip()\n",
    "\n",
    "    no += 1\n",
    "\n",
    "    departements_info.append({\n",
    "                \"No\": no,\n",
    "                \"departement_name\": departement_name,\n",
    "                \"departement_info\": departement_info\n",
    "            })"
   ]
  },
  {
   "cell_type": "code",
   "execution_count": 5,
   "metadata": {},
   "outputs": [
    {
     "data": {
      "text/html": [
       "<div>\n",
       "<style scoped>\n",
       "    .dataframe tbody tr th:only-of-type {\n",
       "        vertical-align: middle;\n",
       "    }\n",
       "\n",
       "    .dataframe tbody tr th {\n",
       "        vertical-align: top;\n",
       "    }\n",
       "\n",
       "    .dataframe thead th {\n",
       "        text-align: right;\n",
       "    }\n",
       "</style>\n",
       "<table border=\"1\" class=\"dataframe\">\n",
       "  <thead>\n",
       "    <tr style=\"text-align: right;\">\n",
       "      <th></th>\n",
       "      <th>No</th>\n",
       "      <th>departement_name</th>\n",
       "      <th>departement_info</th>\n",
       "    </tr>\n",
       "  </thead>\n",
       "  <tbody>\n",
       "    <tr>\n",
       "      <th>0</th>\n",
       "      <td>1</td>\n",
       "      <td>GÉNIE INFORMATIQUE</td>\n",
       "      <td>Chef : Pr.EL BRAK Mohamed    \\nEmail :   melbr...</td>\n",
       "    </tr>\n",
       "    <tr>\n",
       "      <th>1</th>\n",
       "      <td>2</td>\n",
       "      <td>GÉNIE CHIMIQUE</td>\n",
       "      <td>Chef : Pr.CHABBI Mohamed\\nEmail : mchabbi@uae....</td>\n",
       "    </tr>\n",
       "    <tr>\n",
       "      <th>2</th>\n",
       "      <td>3</td>\n",
       "      <td>SCIENCES DE LA TERRE</td>\n",
       "      <td>Chef : Pr.BOULAASSAL Hakim\\nEmail : h.boulaass...</td>\n",
       "    </tr>\n",
       "    <tr>\n",
       "      <th>3</th>\n",
       "      <td>4</td>\n",
       "      <td>GÉNIE MÉCANIQUE</td>\n",
       "      <td>Chef : Pr.ELAYACHI Ilham\\n         \\nEmail :  ...</td>\n",
       "    </tr>\n",
       "    <tr>\n",
       "      <th>4</th>\n",
       "      <td>5</td>\n",
       "      <td>SCIENCES DE LA VIE</td>\n",
       "      <td>Chef : Pr.HASSANI ZERROUK Mounir\\nEmail : mhas...</td>\n",
       "    </tr>\n",
       "    <tr>\n",
       "      <th>5</th>\n",
       "      <td>6</td>\n",
       "      <td>GÉNIE ELECTRIQUE</td>\n",
       "      <td>Chef : Pr.HADJ BARAKA Ibrahim\\n Email : ihadjb...</td>\n",
       "    </tr>\n",
       "    <tr>\n",
       "      <th>6</th>\n",
       "      <td>7</td>\n",
       "      <td>TEC</td>\n",
       "      <td>Chef : Pr.OUCHEN MOHAMED\\n   Email :  mouchen@...</td>\n",
       "    </tr>\n",
       "    <tr>\n",
       "      <th>7</th>\n",
       "      <td>8</td>\n",
       "      <td>PHYSIQUE</td>\n",
       "      <td>Chef  : Pr.AJDOUR Mounia\\nEmail : majdour@uae....</td>\n",
       "    </tr>\n",
       "    <tr>\n",
       "      <th>8</th>\n",
       "      <td>9</td>\n",
       "      <td>MATHÉMATIQUES</td>\n",
       "      <td>Chef : Pr.EL HALIMI RACHID\\n\\nEmail : r.elhali...</td>\n",
       "    </tr>\n",
       "  </tbody>\n",
       "</table>\n",
       "</div>"
      ],
      "text/plain": [
       "   No      departement_name                                   departement_info\n",
       "0   1    GÉNIE INFORMATIQUE  Chef : Pr.EL BRAK Mohamed    \\nEmail :   melbr...\n",
       "1   2        GÉNIE CHIMIQUE  Chef : Pr.CHABBI Mohamed\\nEmail : mchabbi@uae....\n",
       "2   3  SCIENCES DE LA TERRE  Chef : Pr.BOULAASSAL Hakim\\nEmail : h.boulaass...\n",
       "3   4       GÉNIE MÉCANIQUE  Chef : Pr.ELAYACHI Ilham\\n         \\nEmail :  ...\n",
       "4   5    SCIENCES DE LA VIE  Chef : Pr.HASSANI ZERROUK Mounir\\nEmail : mhas...\n",
       "5   6      GÉNIE ELECTRIQUE  Chef : Pr.HADJ BARAKA Ibrahim\\n Email : ihadjb...\n",
       "6   7                   TEC  Chef : Pr.OUCHEN MOHAMED\\n   Email :  mouchen@...\n",
       "7   8              PHYSIQUE  Chef  : Pr.AJDOUR Mounia\\nEmail : majdour@uae....\n",
       "8   9         MATHÉMATIQUES  Chef : Pr.EL HALIMI RACHID\\n\\nEmail : r.elhali..."
      ]
     },
     "execution_count": 5,
     "metadata": {},
     "output_type": "execute_result"
    }
   ],
   "source": [
    "import pandas as pd\n",
    "\n",
    "pd.DataFrame(departements_info)"
   ]
  },
  {
   "cell_type": "code",
   "execution_count": 6,
   "metadata": {},
   "outputs": [
    {
     "name": "stdout",
     "output_type": "stream",
     "text": [
      "************************************************** \n",
      " file created \n",
      " **************************************************\n"
     ]
    }
   ],
   "source": [
    "columns = departements_info[0].keys()\n",
    "\n",
    "with open(\"fstt-departements-info.csv\", \"w\", encoding=\"utf-8-sig\", newline=\"\") as csv_file:\n",
    "    dict_writer = csv.DictWriter(csv_file, columns)\n",
    "    dict_writer.writeheader()\n",
    "    dict_writer.writerows(departements_info)\n",
    "\n",
    "    print(\"*\"*50, \"\\n file created \\n\", \"*\"*50)"
   ]
  }
 ],
 "metadata": {
  "kernelspec": {
   "display_name": "Python 3 (ipykernel)",
   "language": "python",
   "name": "python3"
  },
  "language_info": {
   "codemirror_mode": {
    "name": "ipython",
    "version": 3
   },
   "file_extension": ".py",
   "mimetype": "text/x-python",
   "name": "python",
   "nbconvert_exporter": "python",
   "pygments_lexer": "ipython3",
   "version": "3.12.2"
  }
 },
 "nbformat": 4,
 "nbformat_minor": 4
}
